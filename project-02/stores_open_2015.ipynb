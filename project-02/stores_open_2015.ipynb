{
 "cells": [
  {
   "cell_type": "code",
   "execution_count": 1,
   "metadata": {
    "collapsed": true
   },
   "outputs": [],
   "source": [
    "# Were all stores in the dataset open in 2015? \n",
    "#If not, what steps do you think are appropriate to address that?"
   ]
  },
  {
   "cell_type": "code",
   "execution_count": 20,
   "metadata": {
    "collapsed": false
   },
   "outputs": [
    {
     "data": {
      "text/html": [
       "<div>\n",
       "<table border=\"1\" class=\"dataframe\">\n",
       "  <thead>\n",
       "    <tr style=\"text-align: right;\">\n",
       "      <th></th>\n",
       "      <th>Date</th>\n",
       "      <th>Store Number</th>\n",
       "      <th>City</th>\n",
       "      <th>Zip Code</th>\n",
       "      <th>County Number</th>\n",
       "      <th>County</th>\n",
       "      <th>Category</th>\n",
       "      <th>Category Name</th>\n",
       "      <th>Vendor Number</th>\n",
       "      <th>Item Number</th>\n",
       "      <th>Item Description</th>\n",
       "      <th>Bottle Volume (ml)</th>\n",
       "      <th>State Bottle Cost</th>\n",
       "      <th>State Bottle Retail</th>\n",
       "      <th>Bottles Sold</th>\n",
       "      <th>Sale (Dollars)</th>\n",
       "      <th>Volume Sold (Liters)</th>\n",
       "      <th>Volume Sold (Gallons)</th>\n",
       "      <th>Year</th>\n",
       "    </tr>\n",
       "  </thead>\n",
       "  <tbody>\n",
       "    <tr>\n",
       "      <th>0</th>\n",
       "      <td>11/04/2015</td>\n",
       "      <td>3717</td>\n",
       "      <td>SUMNER</td>\n",
       "      <td>50674</td>\n",
       "      <td>9.0</td>\n",
       "      <td>Bremer</td>\n",
       "      <td>1051100.0</td>\n",
       "      <td>APRICOT BRANDIES</td>\n",
       "      <td>55</td>\n",
       "      <td>54436</td>\n",
       "      <td>Mr. Boston Apricot Brandy</td>\n",
       "      <td>750</td>\n",
       "      <td>4.50</td>\n",
       "      <td>6.75</td>\n",
       "      <td>12</td>\n",
       "      <td>81.00</td>\n",
       "      <td>9.0</td>\n",
       "      <td>2.38</td>\n",
       "      <td>2015</td>\n",
       "    </tr>\n",
       "    <tr>\n",
       "      <th>1</th>\n",
       "      <td>03/02/2016</td>\n",
       "      <td>2614</td>\n",
       "      <td>DAVENPORT</td>\n",
       "      <td>52807</td>\n",
       "      <td>82.0</td>\n",
       "      <td>Scott</td>\n",
       "      <td>1011100.0</td>\n",
       "      <td>BLENDED WHISKIES</td>\n",
       "      <td>395</td>\n",
       "      <td>27605</td>\n",
       "      <td>Tin Cup</td>\n",
       "      <td>750</td>\n",
       "      <td>13.75</td>\n",
       "      <td>20.63</td>\n",
       "      <td>2</td>\n",
       "      <td>41.26</td>\n",
       "      <td>1.5</td>\n",
       "      <td>0.40</td>\n",
       "      <td>2016</td>\n",
       "    </tr>\n",
       "    <tr>\n",
       "      <th>2</th>\n",
       "      <td>02/11/2016</td>\n",
       "      <td>2106</td>\n",
       "      <td>CEDAR FALLS</td>\n",
       "      <td>50613</td>\n",
       "      <td>7.0</td>\n",
       "      <td>Black Hawk</td>\n",
       "      <td>1011200.0</td>\n",
       "      <td>STRAIGHT BOURBON WHISKIES</td>\n",
       "      <td>65</td>\n",
       "      <td>19067</td>\n",
       "      <td>Jim Beam</td>\n",
       "      <td>1000</td>\n",
       "      <td>12.59</td>\n",
       "      <td>18.89</td>\n",
       "      <td>24</td>\n",
       "      <td>453.36</td>\n",
       "      <td>24.0</td>\n",
       "      <td>6.34</td>\n",
       "      <td>2016</td>\n",
       "    </tr>\n",
       "    <tr>\n",
       "      <th>3</th>\n",
       "      <td>02/03/2016</td>\n",
       "      <td>2501</td>\n",
       "      <td>AMES</td>\n",
       "      <td>50010</td>\n",
       "      <td>85.0</td>\n",
       "      <td>Story</td>\n",
       "      <td>1071100.0</td>\n",
       "      <td>AMERICAN COCKTAILS</td>\n",
       "      <td>395</td>\n",
       "      <td>59154</td>\n",
       "      <td>1800 Ultimate Margarita</td>\n",
       "      <td>1750</td>\n",
       "      <td>9.50</td>\n",
       "      <td>14.25</td>\n",
       "      <td>6</td>\n",
       "      <td>85.50</td>\n",
       "      <td>10.5</td>\n",
       "      <td>2.77</td>\n",
       "      <td>2016</td>\n",
       "    </tr>\n",
       "    <tr>\n",
       "      <th>4</th>\n",
       "      <td>08/18/2015</td>\n",
       "      <td>3654</td>\n",
       "      <td>BELMOND</td>\n",
       "      <td>50421</td>\n",
       "      <td>99.0</td>\n",
       "      <td>Wright</td>\n",
       "      <td>1031080.0</td>\n",
       "      <td>VODKA 80 PROOF</td>\n",
       "      <td>297</td>\n",
       "      <td>35918</td>\n",
       "      <td>Five O'clock Vodka</td>\n",
       "      <td>1750</td>\n",
       "      <td>7.20</td>\n",
       "      <td>10.80</td>\n",
       "      <td>12</td>\n",
       "      <td>129.60</td>\n",
       "      <td>21.0</td>\n",
       "      <td>5.55</td>\n",
       "      <td>2015</td>\n",
       "    </tr>\n",
       "  </tbody>\n",
       "</table>\n",
       "</div>"
      ],
      "text/plain": [
       "         Date  Store Number         City Zip Code  County Number      County  \\\n",
       "0  11/04/2015          3717       SUMNER    50674            9.0      Bremer   \n",
       "1  03/02/2016          2614    DAVENPORT    52807           82.0       Scott   \n",
       "2  02/11/2016          2106  CEDAR FALLS    50613            7.0  Black Hawk   \n",
       "3  02/03/2016          2501         AMES    50010           85.0       Story   \n",
       "4  08/18/2015          3654      BELMOND    50421           99.0      Wright   \n",
       "\n",
       "    Category              Category Name  Vendor Number  Item Number  \\\n",
       "0  1051100.0           APRICOT BRANDIES             55        54436   \n",
       "1  1011100.0           BLENDED WHISKIES            395        27605   \n",
       "2  1011200.0  STRAIGHT BOURBON WHISKIES             65        19067   \n",
       "3  1071100.0         AMERICAN COCKTAILS            395        59154   \n",
       "4  1031080.0             VODKA 80 PROOF            297        35918   \n",
       "\n",
       "            Item Description  Bottle Volume (ml)  State Bottle Cost  \\\n",
       "0  Mr. Boston Apricot Brandy                 750               4.50   \n",
       "1                    Tin Cup                 750              13.75   \n",
       "2                   Jim Beam                1000              12.59   \n",
       "3    1800 Ultimate Margarita                1750               9.50   \n",
       "4         Five O'clock Vodka                1750               7.20   \n",
       "\n",
       "   State Bottle Retail  Bottles Sold  Sale (Dollars)  Volume Sold (Liters)  \\\n",
       "0                 6.75            12           81.00                   9.0   \n",
       "1                20.63             2           41.26                   1.5   \n",
       "2                18.89            24          453.36                  24.0   \n",
       "3                14.25             6           85.50                  10.5   \n",
       "4                10.80            12          129.60                  21.0   \n",
       "\n",
       "   Volume Sold (Gallons)  Year  \n",
       "0                   2.38  2015  \n",
       "1                   0.40  2016  \n",
       "2                   6.34  2016  \n",
       "3                   2.77  2016  \n",
       "4                   5.55  2015  "
      ]
     },
     "execution_count": 20,
     "metadata": {},
     "output_type": "execute_result"
    }
   ],
   "source": [
    "import pandas as pd\n",
    "import numpy as np\n",
    "\n",
    "df = pd.read_csv(\"Iowa_Liquor_sales_sample_10pct.csv\")\n",
    "\n",
    "#drops NaN rows since such a tiny percentage of total data\n",
    "df = df.dropna()\n",
    "\n",
    "#cleans $ symbols from problem columns and turns into useable floats\n",
    "df[\"State Bottle Cost\"] = df[\"State Bottle Cost\"].apply(lambda x: float(x.replace(\"$\",\"\")))\n",
    "df[\"State Bottle Retail\"] = df[\"State Bottle Retail\"].apply(lambda x: float(x.replace(\"$\",\"\")))\n",
    "df[\"Sale (Dollars)\"] = df[\"Sale (Dollars)\"].apply(lambda x: float(x.replace(\"$\",\"\")))\n",
    "\n",
    "#adds \"Year\" column for questions 3 and 4\n",
    "df[\"Year\"] = df[\"Date\"].str[6:10].astype(int)\n",
    "\n",
    "df.head()"
   ]
  },
  {
   "cell_type": "code",
   "execution_count": 21,
   "metadata": {
    "collapsed": false
   },
   "outputs": [
    {
     "data": {
      "text/plain": [
       "2015    218348\n",
       "2016     50910\n",
       "Name: Year, dtype: int64"
      ]
     },
     "execution_count": 21,
     "metadata": {},
     "output_type": "execute_result"
    }
   ],
   "source": [
    "df[\"Year\"].value_counts()"
   ]
  },
  {
   "cell_type": "code",
   "execution_count": 22,
   "metadata": {
    "collapsed": false
   },
   "outputs": [
    {
     "data": {
      "text/plain": [
       "dtype('int64')"
      ]
     },
     "execution_count": 22,
     "metadata": {},
     "output_type": "execute_result"
    }
   ],
   "source": [
    "df[\"Year\"].dtype"
   ]
  },
  {
   "cell_type": "code",
   "execution_count": 24,
   "metadata": {
    "collapsed": false
   },
   "outputs": [
    {
     "data": {
      "text/plain": [
       "1280"
      ]
     },
     "execution_count": 24,
     "metadata": {},
     "output_type": "execute_result"
    }
   ],
   "source": [
    "df.loc[(df[\"Year\"] == 2016), \"Store Number\"].nunique()"
   ]
  },
  {
   "cell_type": "code",
   "execution_count": 23,
   "metadata": {
    "collapsed": false
   },
   "outputs": [
    {
     "data": {
      "text/plain": [
       "1372"
      ]
     },
     "execution_count": 23,
     "metadata": {},
     "output_type": "execute_result"
    }
   ],
   "source": [
    "df.loc[(df[\"Year\"] == 2015), \"Store Number\"].nunique()"
   ]
  },
  {
   "cell_type": "code",
   "execution_count": 27,
   "metadata": {
    "collapsed": false
   },
   "outputs": [
    {
     "name": "stdout",
     "output_type": "stream",
     "text": [
      "{5120, 5130, 5195, 5202, 5211, 9023}\n"
     ]
    }
   ],
   "source": [
    "#stores open in 2016 that were not open in 2015\n",
    "only_2016 = set(df.loc[(df[\"Year\"] == 2016), \"Store Number\"]) - set(df.loc[(df[\"Year\"] == 2015), \"Store Number\"])\n",
    "print(only_2016)"
   ]
  },
  {
   "cell_type": "code",
   "execution_count": 41,
   "metadata": {
    "collapsed": false
   },
   "outputs": [
    {
     "ename": "ValueError",
     "evalue": "The truth value of a Series is ambiguous. Use a.empty, a.bool(), a.item(), a.any() or a.all().",
     "output_type": "error",
     "traceback": [
      "\u001b[0;31m---------------------------------------------------------------------------\u001b[0m",
      "\u001b[0;31mValueError\u001b[0m                                Traceback (most recent call last)",
      "\u001b[0;32m<ipython-input-41-5b0c93d34865>\u001b[0m in \u001b[0;36m<module>\u001b[0;34m()\u001b[0m\n\u001b[0;32m----> 1\u001b[0;31m \u001b[0mdf\u001b[0m\u001b[0;34m.\u001b[0m\u001b[0mloc\u001b[0m\u001b[0;34m[\u001b[0m\u001b[0;34m(\u001b[0m\u001b[0mdf\u001b[0m\u001b[0;34m[\u001b[0m\u001b[0;34m\"Store Number\"\u001b[0m\u001b[0;34m]\u001b[0m \u001b[0;34m==\u001b[0m \u001b[0;36m5120\u001b[0m \u001b[0;32mand\u001b[0m \u001b[0mdf\u001b[0m\u001b[0;34m[\u001b[0m\u001b[0;34m\"Store Number\"\u001b[0m\u001b[0;34m]\u001b[0m \u001b[0;34m==\u001b[0m \u001b[0;36m5130\u001b[0m\u001b[0;34m)\u001b[0m\u001b[0;34m]\u001b[0m\u001b[0;34m\u001b[0m\u001b[0m\n\u001b[0m",
      "\u001b[0;32m/Users/annafriedman/anaconda/lib/python3.6/site-packages/pandas/core/generic.py\u001b[0m in \u001b[0;36m__nonzero__\u001b[0;34m(self)\u001b[0m\n\u001b[1;32m    915\u001b[0m         raise ValueError(\"The truth value of a {0} is ambiguous. \"\n\u001b[1;32m    916\u001b[0m                          \u001b[0;34m\"Use a.empty, a.bool(), a.item(), a.any() or a.all().\"\u001b[0m\u001b[0;34m\u001b[0m\u001b[0m\n\u001b[0;32m--> 917\u001b[0;31m                          .format(self.__class__.__name__))\n\u001b[0m\u001b[1;32m    918\u001b[0m \u001b[0;34m\u001b[0m\u001b[0m\n\u001b[1;32m    919\u001b[0m     \u001b[0m__bool__\u001b[0m \u001b[0;34m=\u001b[0m \u001b[0m__nonzero__\u001b[0m\u001b[0;34m\u001b[0m\u001b[0m\n",
      "\u001b[0;31mValueError\u001b[0m: The truth value of a Series is ambiguous. Use a.empty, a.bool(), a.item(), a.any() or a.all()."
     ]
    }
   ],
   "source": [
    "df.loc[(df[\"Store Number\"] == 5120 and df[\"Store Number\"] == 5130)]"
   ]
  },
  {
   "cell_type": "code",
   "execution_count": 28,
   "metadata": {
    "collapsed": false
   },
   "outputs": [
    {
     "name": "stdout",
     "output_type": "stream",
     "text": [
      "{4610, 3591, 4112, 4625, 5136, 5139, 4121, 5156, 2599, 5161, 3631, 5168, 4672, 4681, 5193, 4683, 5201, 4691, 4188, 3682, 3692, 4729, 4247, 2205, 4776, 4778, 4270, 3761, 4276, 4288, 4811, 4812, 4307, 4308, 4322, 4834, 4335, 3826, 4855, 4860, 4349, 4870, 4881, 3864, 4889, 4386, 4920, 9018, 2367, 4425, 4939, 4432, 3925, 4954, 3437, 3440, 3451, 4990, 3969, 3970, 3973, 2951, 4488, 2953, 2954, 2955, 2956, 2958, 2959, 5008, 2961, 2962, 2963, 4497, 4507, 2460, 5026, 5030, 5032, 5033, 4012, 5036, 5038, 2487, 5053, 4030, 5056, 3529, 4567, 4059, 4572, 5084, 5085, 5093, 4071, 4583, 4586, 4085}\n"
     ]
    }
   ],
   "source": [
    "#stores open in 2015 that were not open in 2016\n",
    "only_2015 = set(df.loc[(df[\"Year\"] == 2015), \"Store Number\"]) - set(df.loc[(df[\"Year\"] == 2016), \"Store Number\"])\n",
    "print(only_2015)"
   ]
  },
  {
   "cell_type": "code",
   "execution_count": 33,
   "metadata": {
    "collapsed": false
   },
   "outputs": [
    {
     "data": {
      "text/plain": [
       "98"
      ]
     },
     "execution_count": 33,
     "metadata": {},
     "output_type": "execute_result"
    }
   ],
   "source": [
    "len(only_2015)"
   ]
  },
  {
   "cell_type": "code",
   "execution_count": null,
   "metadata": {
    "collapsed": true
   },
   "outputs": [],
   "source": []
  }
 ],
 "metadata": {
  "kernelspec": {
   "display_name": "Python 3",
   "language": "python",
   "name": "python3"
  },
  "language_info": {
   "codemirror_mode": {
    "name": "ipython",
    "version": 3
   },
   "file_extension": ".py",
   "mimetype": "text/x-python",
   "name": "python",
   "nbconvert_exporter": "python",
   "pygments_lexer": "ipython3",
   "version": "3.6.0"
  }
 },
 "nbformat": 4,
 "nbformat_minor": 2
}
