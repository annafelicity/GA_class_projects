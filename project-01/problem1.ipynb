{
 "cells": [
  {
   "cell_type": "code",
   "execution_count": 1,
   "metadata": {
    "collapsed": false,
    "scrolled": true
   },
   "outputs": [
    {
     "name": "stdout",
     "output_type": "stream",
     "text": [
      "\n",
      "Problem 1\n",
      "\n"
     ]
    }
   ],
   "source": [
    "# Problem 1\n",
    "print ('\\nProblem 1\\n')\n",
    "\n",
    "q1_dict = {'list':[1,2,3,4], 'tuple':('cat', 'dog'), 'integer':1, \n",
    "              'float':99.99, 1:'integer', 2:'integer_2', 'Uppercase_string':'ABCD',\n",
    "              'CHARACTER':'C'}"
   ]
  },
  {
   "cell_type": "code",
   "execution_count": 2,
   "metadata": {
    "collapsed": false
   },
   "outputs": [
    {
     "name": "stdout",
     "output_type": "stream",
     "text": [
      "{'list': [1, 2, 3, 4], 'tuple': ('cat', 'dog'), 'integer': 1, 'float': 99.99, 1: 'integer', 2: 'integer_2', 'Uppercase_string': 'ABCD', 'CHARACTER': 'C'}\n",
      "{'list': 'consonant', 'tuple': 'consonant', 'integer': 'vowel', 'float': 'consonant'}\n"
     ]
    },
    {
     "data": {
      "text/plain": [
       "{'float': 'consonant',\n",
       " 'integer': 'vowel',\n",
       " 'list': 'consonant',\n",
       " 'tuple': 'consonant'}"
      ]
     },
     "execution_count": 2,
     "metadata": {},
     "output_type": "execute_result"
    }
   ],
   "source": [
    "def q1_func(dictionary):\n",
    "    import string\n",
    "    print(dictionary)\n",
    "    keys = list(dictionary.keys())\n",
    "    keys = [str(i) for i in keys]\n",
    "    modified_dict = {}\n",
    "    for i in keys:\n",
    "        lower_vowels = (\"a\", \"e\", \"i\", \"o\", \"u\")\n",
    "        lower_consonants = (\"b\", \"c\", \"d\", \"f\", \"g\", \"h\", \"j\", \"k\", \"l\", \"m\", \"n\", \"p\", \"q\", \"r\", \"s\", \"t\", \"v\", \"w\", \"x\", \"y\", \"z\")    \n",
    "        if i.startswith(lower_vowels):\n",
    "            modified_dict[i] = \"vowel\"\n",
    "        elif i.startswith(lower_consonants):\n",
    "            modified_dict[i] = \"consonant\"\n",
    "        else:\n",
    "            modified_dict[i] = \"remove\"\n",
    "    for k, v in list(modified_dict.items()):\n",
    "        if v == \"remove\":\n",
    "            modified_dict.pop(k)\n",
    "    print(modified_dict)\n",
    "    return modified_dict\n",
    "\n",
    "q1_func(q1_dict)"
   ]
  },
  {
   "cell_type": "code",
   "execution_count": null,
   "metadata": {
    "collapsed": true
   },
   "outputs": [],
   "source": []
  },
  {
   "cell_type": "code",
   "execution_count": null,
   "metadata": {
    "collapsed": true
   },
   "outputs": [],
   "source": []
  }
 ],
 "metadata": {
  "kernelspec": {
   "display_name": "Python 3",
   "language": "python",
   "name": "python3"
  },
  "language_info": {
   "codemirror_mode": {
    "name": "ipython",
    "version": 3
   },
   "file_extension": ".py",
   "mimetype": "text/x-python",
   "name": "python",
   "nbconvert_exporter": "python",
   "pygments_lexer": "ipython3",
   "version": "3.6.0"
  }
 },
 "nbformat": 4,
 "nbformat_minor": 2
}
