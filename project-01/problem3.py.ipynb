{
 "cells": [
  {
   "cell_type": "code",
   "execution_count": 3,
   "metadata": {
    "collapsed": false
   },
   "outputs": [
    {
     "name": "stdout",
     "output_type": "stream",
     "text": [
      "\n",
      "Problem 4\n",
      "\n"
     ]
    }
   ],
   "source": [
    "print('\\nProblem 3\\n')\n",
    "\n",
    "list_1 = [1.5, 3.5, 5.5, 7.5]\n",
    "list_2 = [0, 4, 8, 12]\n"
   ]
  },
  {
   "cell_type": "code",
   "execution_count": 4,
   "metadata": {
    "collapsed": false
   },
   "outputs": [],
   "source": [
    "#list1, list2 are lists of numbers\n",
    "def q3_func(list1, list2):\n",
    "    multiplied = 0\n",
    "    iteration = 1\n",
    "    while multiplied < 300:\n",
    "        print(\"Iteration: %s\" % iteration)\n",
    "        for value1, value2 in zip(list1, list2):    \n",
    "            print (\"Value 1: %s\" % value1)\n",
    "            print (\"Value 2: %s\" % value2)\n",
    "            multiplied = value1 * value2\n",
    "            print(\"Multiplied value: %s\" % multiplied)\n",
    "        #multiply all numbers in both lists by 2  \n",
    "        new_list1 = []\n",
    "        for item in list1:\n",
    "            new_list1.append(item * 2)\n",
    "        list1 = new_list1\n",
    "        new_list2 = []\n",
    "        for item in list2:\n",
    "            new_list2.append(item * 2)\n",
    "        list2 = new_list2\n",
    "        iteration = iteration + 1\n",
    "    print(\"Function complete.\")"
   ]
  },
  {
   "cell_type": "code",
   "execution_count": 5,
   "metadata": {
    "collapsed": false
   },
   "outputs": [
    {
     "name": "stdout",
     "output_type": "stream",
     "text": [
      "Iteration: 1\n",
      "Value 1: 1.5\n",
      "Value 2: 0\n",
      "Multiplied value: 0.0\n",
      "Value 1: 3.5\n",
      "Value 2: 4\n",
      "Multiplied value: 14.0\n",
      "Value 1: 5.5\n",
      "Value 2: 8\n",
      "Multiplied value: 44.0\n",
      "Value 1: 7.5\n",
      "Value 2: 12\n",
      "Multiplied value: 90.0\n",
      "Iteration: 2\n",
      "Value 1: 3.0\n",
      "Value 2: 0\n",
      "Multiplied value: 0.0\n",
      "Value 1: 7.0\n",
      "Value 2: 8\n",
      "Multiplied value: 56.0\n",
      "Value 1: 11.0\n",
      "Value 2: 16\n",
      "Multiplied value: 176.0\n",
      "Value 1: 15.0\n",
      "Value 2: 24\n",
      "Multiplied value: 360.0\n",
      "Function complete.\n"
     ]
    }
   ],
   "source": [
    "q3_func(list_1, list_2)"
   ]
  },
  {
   "cell_type": "code",
   "execution_count": null,
   "metadata": {
    "collapsed": true
   },
   "outputs": [],
   "source": []
  }
 ],
 "metadata": {
  "kernelspec": {
   "display_name": "Python 3",
   "language": "python",
   "name": "python3"
  },
  "language_info": {
   "codemirror_mode": {
    "name": "ipython",
    "version": 3
   },
   "file_extension": ".py",
   "mimetype": "text/x-python",
   "name": "python",
   "nbconvert_exporter": "python",
   "pygments_lexer": "ipython3",
   "version": "3.6.0"
  }
 },
 "nbformat": 4,
 "nbformat_minor": 2
}
