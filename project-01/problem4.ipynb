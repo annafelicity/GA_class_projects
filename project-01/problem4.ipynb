{
 "cells": [
  {
   "cell_type": "code",
   "execution_count": 2,
   "metadata": {
    "collapsed": false
   },
   "outputs": [
    {
     "name": "stdout",
     "output_type": "stream",
     "text": [
      "\n",
      "Problem 4\n",
      "\n"
     ]
    }
   ],
   "source": [
    "print ('\\nProblem 4\\n')"
   ]
  },
  {
   "cell_type": "code",
   "execution_count": 6,
   "metadata": {
    "collapsed": false
   },
   "outputs": [],
   "source": [
    "# Fill in median_calculator and q4_func\n",
    "\n",
    "def median_calculator(numbers):\n",
    "    #sort\n",
    "    #figure out if even or odd: if (num % 2) == 0:\n",
    "    #pick middle 2 if even and return mean\n",
    "    #pick middle if odd and return\n",
    "    sorted_data = numbers.sort()\n",
    "    half_length_of_data = int(len(numbers) / 2)\n",
    "    if (half_length_of_data % 2) == 0:\n",
    "        first_middle = numbers[half_length_of_data - 1]\n",
    "        second_middle = numbers[half_length_of_data]\n",
    "        #add mean of two middle numbers\n",
    "        mean_of_middle = (first_middle + second_middle) / 2\n",
    "        return mean_of_middle\n",
    "    else:\n",
    "        return numbers[half_length_of_data]"
   ]
  },
  {
   "cell_type": "code",
   "execution_count": 13,
   "metadata": {
    "collapsed": true
   },
   "outputs": [],
   "source": [
    "def q4_func(i, numbers):\n",
    "# Takes in two arguments. \n",
    "# One will be a single number for the current iteration and \n",
    "# the second will be a list of numbers. \n",
    "    # Prints out the current iteration.\n",
    "    iteration = i\n",
    "    print(\"i is currently: %s\" % iteration)\n",
    "    # Calculates the mean of numbers without using numpy\n",
    "    mean = (sum(numbers)) / len(numbers)\n",
    "    # Calculates the median of numbers using the median_calculator function you created above. \n",
    "    median = median_calculator(numbers)\n",
    "    # Prints out the mean and median.\n",
    "    print(\"The mean is: %s\" % mean)\n",
    "    print(\"The median is: %s\" % median)"
   ]
  },
  {
   "cell_type": "code",
   "execution_count": 17,
   "metadata": {
    "collapsed": false
   },
   "outputs": [
    {
     "name": "stdout",
     "output_type": "stream",
     "text": [
      "i is currently: 1\n",
      "The mean is: 0.0\n",
      "The median is: 0.0\n",
      "i is currently: 3\n",
      "The mean is: 33.336633663366335\n",
      "The median is: 24.0\n",
      "i is currently: 5\n",
      "The mean is: 39.603960396039604\n",
      "The median is: 36.5\n",
      "i is currently: 7\n",
      "The mean is: 42.722772277227726\n",
      "The median is: 40.5\n",
      "i is currently: 9\n",
      "The mean is: 44.118811881188115\n",
      "The median is: 42.5\n",
      "i is currently: 11\n",
      "The mean is: 45.0990099009901\n",
      "The median is: 44.0\n",
      "i is currently: 13\n",
      "The mean is: 46.396039603960396\n",
      "The median is: 45.5\n"
     ]
    }
   ],
   "source": [
    "for i in range(1, 15, 2):\n",
    "    numbers = [x if not x % i == 0 else 0 for x in range(101)]\n",
    "    q4_func(i, numbers) # should return same result as expected results"
   ]
  },
  {
   "cell_type": "code",
   "execution_count": null,
   "metadata": {
    "collapsed": true
   },
   "outputs": [],
   "source": []
  }
 ],
 "metadata": {
  "kernelspec": {
   "display_name": "Python 3",
   "language": "python",
   "name": "python3"
  },
  "language_info": {
   "codemirror_mode": {
    "name": "ipython",
    "version": 3
   },
   "file_extension": ".py",
   "mimetype": "text/x-python",
   "name": "python",
   "nbconvert_exporter": "python",
   "pygments_lexer": "ipython3",
   "version": "3.6.0"
  }
 },
 "nbformat": 4,
 "nbformat_minor": 2
}
