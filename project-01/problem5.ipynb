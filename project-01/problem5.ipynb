{
 "cells": [
  {
   "cell_type": "code",
   "execution_count": 1,
   "metadata": {
    "collapsed": false
   },
   "outputs": [
    {
     "name": "stdout",
     "output_type": "stream",
     "text": [
      "\n",
      "Problem 5\n",
      "\n"
     ]
    }
   ],
   "source": [
    "# Problem 5\n",
    "print ('\\nProblem 5\\n')\n",
    "\n",
    "q5_predictions = [14.2,5.8,4.8,12.7,5.6,-1.2,5.3,11.9,4.8,8.1,1.5,8.5,14.9,6.1,\n",
    "     6.8,12.6,15.5,24.3,15.6,16.8,22.3,22.6,26.2,19.0,24.3,26.3,\n",
    "     25.3,31.6,27.3,33.0,32.6,30.7,29.6,34.7,32.7,43.1,40.1,35.4,49.6,38.6]\n",
    "\n",
    "q5_true_values = [-15.5,-8.5,0.8,-3.9,4.9,12.7,10.0,16.5,5.7,13.1,10.3,12.4,-1.5,\n",
    "     1.7,26.0,14.3,30.3,21.7,27.5,38.2,18.9,21.2,18.2,26.1,14.7,16.4,\n",
    "     22.8,34.3,37.1,38.9,39.1,33.8,52.2,36.5,20.7,21.6,14.5,33.6,44.5,44.2]"
   ]
  },
  {
   "cell_type": "code",
   "execution_count": 18,
   "metadata": {
    "collapsed": false
   },
   "outputs": [],
   "source": [
    "# Fill in q5_func\n",
    "\n",
    "def q5_func(true_values, predictions):\n",
    "    import numpy as np\n",
    "    #For each value in predictions and true_values, calculate the error \n",
    "    #(which is the prediction - the true value at each n-index). \n",
    "    #Store these values in a list called errors\n",
    "    errors = []\n",
    "    for v1, v2 in zip(true_values, predictions):\n",
    "        errors.append(v2 - v1)\n",
    "    #Square each element in errors \n",
    "    #(you should have a list of the same size with the squared elements instead of the differences)\n",
    "    squared_errors = []\n",
    "    for error in errors:\n",
    "        squared_errors.append(error ** 2)\n",
    "    mean_squared_errors = (sum(squared_errors)) / len(squared_errors)\n",
    "    #Take the square root of the mean created in step 4 using np.sqrt(). \n",
    "    #Store this in a variable called rmse\n",
    "    rmse = np.sqrt(mean_squared_errors)\n",
    "    print(\"RMSE: %s\" % rmse)\n",
    "    return rmse"
   ]
  },
  {
   "cell_type": "code",
   "execution_count": 19,
   "metadata": {
    "collapsed": false
   },
   "outputs": [
    {
     "name": "stdout",
     "output_type": "stream",
     "text": [
      "RMSE: 11.7997245731\n"
     ]
    },
    {
     "data": {
      "text/plain": [
       "11.79972457305678"
      ]
     },
     "execution_count": 19,
     "metadata": {},
     "output_type": "execute_result"
    }
   ],
   "source": [
    "q5_func(q5_true_values, q5_predictions)"
   ]
  },
  {
   "cell_type": "code",
   "execution_count": null,
   "metadata": {
    "collapsed": true
   },
   "outputs": [],
   "source": []
  }
 ],
 "metadata": {
  "kernelspec": {
   "display_name": "Python 3",
   "language": "python",
   "name": "python3"
  },
  "language_info": {
   "codemirror_mode": {
    "name": "ipython",
    "version": 3
   },
   "file_extension": ".py",
   "mimetype": "text/x-python",
   "name": "python",
   "nbconvert_exporter": "python",
   "pygments_lexer": "ipython3",
   "version": "3.6.0"
  }
 },
 "nbformat": 4,
 "nbformat_minor": 2
}
