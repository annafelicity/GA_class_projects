{
 "cells": [
  {
   "cell_type": "code",
   "execution_count": 1,
   "metadata": {
    "collapsed": false
   },
   "outputs": [
    {
     "name": "stdout",
     "output_type": "stream",
     "text": [
      "\n",
      "Problem 2\n",
      "\n"
     ]
    }
   ],
   "source": [
    "# Problem 2\n",
    "print ('\\nProblem 2\\n')\n",
    "\n",
    "q2_dict = {'A':[1,2,3,4,5], 'B':[12.1, 14.2, 20.3, 25.4], 'C':[10, 25.5, 50.9, 101]}\n",
    "q2_remainder = [2,3,4,5]"
   ]
  },
  {
   "cell_type": "code",
   "execution_count": 2,
   "metadata": {
    "collapsed": false
   },
   "outputs": [],
   "source": [
    "## Fill in q2_func\n",
    "\n",
    "def q2_func(dictionary, remainder=[]):\n",
    "    if remainder == []:\n",
    "        remainder.append(2)\n",
    "    print (dictionary)\n",
    "    print (remainder)\n",
    "    results = {}\n",
    "    if len(remainder) == 1:\n",
    "        for k, v in list(dictionary.items()):\n",
    "            #to get remainder: x % y\n",
    "            results[k] = {}\n",
    "            for i in v:\n",
    "                results[k][i] = [i % 2]\n",
    "    else:\n",
    "        for k, v in list(dictionary.items()):\n",
    "            results[k] = {}\n",
    "            # take each item from v (which is a list) and make it the key of results[k]\n",
    "            # then divide each item from v by each item from remainder list \n",
    "            #and make a new list that is the value for the new key\n",
    "            for i in v:\n",
    "                second_remainder = []\n",
    "                for x in remainder:\n",
    "                    second_remainder.append(i % x)\n",
    "                results[k][i] = second_remainder\n",
    "    print (results)\n",
    "    return results"
   ]
  },
  {
   "cell_type": "code",
   "execution_count": null,
   "metadata": {
    "collapsed": true
   },
   "outputs": [],
   "source": []
  },
  {
   "cell_type": "code",
   "execution_count": 3,
   "metadata": {
    "collapsed": false
   },
   "outputs": [
    {
     "name": "stdout",
     "output_type": "stream",
     "text": [
      "{'A': [1, 2, 3, 4, 5], 'B': [12.1, 14.2, 20.3, 25.4], 'C': [10, 25.5, 50.9, 101]}\n",
      "[2]\n",
      "{'A': {1: [1], 2: [0], 3: [1], 4: [0], 5: [1]}, 'B': {12.1: [0.09999999999999964], 14.2: [0.1999999999999993], 20.3: [0.3000000000000007], 25.4: [1.3999999999999986]}, 'C': {10: [0], 25.5: [1.5], 50.9: [0.8999999999999986], 101: [1]}}\n",
      "{'A': [1, 2, 3, 4, 5], 'B': [12.1, 14.2, 20.3, 25.4], 'C': [10, 25.5, 50.9, 101]}\n",
      "[2, 3, 4, 5]\n",
      "{'A': {1: [1, 1, 1, 1], 2: [0, 2, 2, 2], 3: [1, 0, 3, 3], 4: [0, 1, 0, 4], 5: [1, 2, 1, 0]}, 'B': {12.1: [0.09999999999999964, 0.09999999999999964, 0.09999999999999964, 2.0999999999999996], 14.2: [0.1999999999999993, 2.1999999999999993, 2.1999999999999993, 4.199999999999999], 20.3: [0.3000000000000007, 2.3000000000000007, 0.3000000000000007, 0.3000000000000007], 25.4: [1.3999999999999986, 1.3999999999999986, 1.3999999999999986, 0.3999999999999986]}, 'C': {10: [0, 1, 2, 0], 25.5: [1.5, 1.5, 1.5, 0.5], 50.9: [0.8999999999999986, 2.8999999999999986, 2.8999999999999986, 0.8999999999999986], 101: [1, 2, 1, 1]}}\n"
     ]
    }
   ],
   "source": [
    "output = q2_func(q2_dict) # Should be same as expected result 1\n",
    "output = q2_func(q2_dict, q2_remainder) # Should be same as expected result 2"
   ]
  },
  {
   "cell_type": "code",
   "execution_count": null,
   "metadata": {
    "collapsed": true
   },
   "outputs": [],
   "source": []
  }
 ],
 "metadata": {
  "kernelspec": {
   "display_name": "Python 3",
   "language": "python",
   "name": "python3"
  },
  "language_info": {
   "codemirror_mode": {
    "name": "ipython",
    "version": 3
   },
   "file_extension": ".py",
   "mimetype": "text/x-python",
   "name": "python",
   "nbconvert_exporter": "python",
   "pygments_lexer": "ipython3",
   "version": "3.6.0"
  }
 },
 "nbformat": 4,
 "nbformat_minor": 2
}
