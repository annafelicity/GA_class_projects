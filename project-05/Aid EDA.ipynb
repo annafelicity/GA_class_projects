{
 "cells": [
  {
   "cell_type": "code",
   "execution_count": 1,
   "metadata": {
    "collapsed": true
   },
   "outputs": [],
   "source": [
    "import numpy as np\n",
    "import pandas as pd\n",
    "from sklearn.linear_model import LogisticRegression\n",
    "from sklearn.neighbors import KNeighborsClassifier\n",
    "from sklearn.preprocessing import StandardScaler, Imputer, FunctionTransformer, LabelBinarizer\n",
    "from sklearn.pipeline import make_pipeline, make_union"
   ]
  },
  {
   "cell_type": "code",
   "execution_count": 3,
   "metadata": {
    "collapsed": true
   },
   "outputs": [],
   "source": [
    "pd.set_option('display.max_columns', 100)\n",
    "pd.set_option(\"display.max_rows\", 100)"
   ]
  },
  {
   "cell_type": "code",
   "execution_count": 4,
   "metadata": {
    "collapsed": true
   },
   "outputs": [],
   "source": [
    "#2) import train and test data\n",
    "aid_train = pd.read_csv('university_train.csv')\n",
    "aid_test = pd.read_csv('university_test.csv')"
   ]
  },
  {
   "cell_type": "code",
   "execution_count": 6,
   "metadata": {
    "collapsed": false
   },
   "outputs": [
    {
     "data": {
      "text/html": [
       "<div>\n",
       "<table border=\"1\" class=\"dataframe\">\n",
       "  <thead>\n",
       "    <tr style=\"text-align: right;\">\n",
       "      <th></th>\n",
       "      <th>INSTNM</th>\n",
       "      <th>CITY</th>\n",
       "      <th>STABBR</th>\n",
       "      <th>ZIP</th>\n",
       "      <th>ACCREDAGENCY</th>\n",
       "      <th>MAIN</th>\n",
       "      <th>NUMBRANCH</th>\n",
       "      <th>PREDDEG</th>\n",
       "      <th>HIGHDEG</th>\n",
       "      <th>CONTROL</th>\n",
       "      <th>LOCALE</th>\n",
       "      <th>CCUGPROF</th>\n",
       "      <th>CCSIZSET</th>\n",
       "      <th>HBCU</th>\n",
       "      <th>PBI</th>\n",
       "      <th>MENONLY</th>\n",
       "      <th>WOMENONLY</th>\n",
       "      <th>RELAFFIL</th>\n",
       "      <th>DISTANCEONLY</th>\n",
       "      <th>UGDS</th>\n",
       "      <th>AGE_ENTRY</th>\n",
       "      <th>FEMALE</th>\n",
       "      <th>MARRIED</th>\n",
       "      <th>DEPENDENT</th>\n",
       "      <th>MD_FAMINC</th>\n",
       "      <th>percent_on_student_loan</th>\n",
       "      <th>id_number</th>\n",
       "    </tr>\n",
       "  </thead>\n",
       "  <tbody>\n",
       "    <tr>\n",
       "      <th>0</th>\n",
       "      <td>Panola College</td>\n",
       "      <td>Carthage</td>\n",
       "      <td>TX</td>\n",
       "      <td>75633-2397</td>\n",
       "      <td>Southern Association of Colleges and Schools C...</td>\n",
       "      <td>1</td>\n",
       "      <td>1</td>\n",
       "      <td>1</td>\n",
       "      <td>2</td>\n",
       "      <td>1</td>\n",
       "      <td>32.0</td>\n",
       "      <td>2.0</td>\n",
       "      <td>2.0</td>\n",
       "      <td>0.0</td>\n",
       "      <td>0.0</td>\n",
       "      <td>0.0</td>\n",
       "      <td>0.0</td>\n",
       "      <td>-2.0</td>\n",
       "      <td>0.0</td>\n",
       "      <td>2056.0</td>\n",
       "      <td>25.927665</td>\n",
       "      <td>0.706853</td>\n",
       "      <td>0.176396</td>\n",
       "      <td>0.479061</td>\n",
       "      <td>19588.54338</td>\n",
       "      <td>26.05</td>\n",
       "      <td>3756</td>\n",
       "    </tr>\n",
       "    <tr>\n",
       "      <th>1</th>\n",
       "      <td>Palo Alto University</td>\n",
       "      <td>Palo Alto</td>\n",
       "      <td>CA</td>\n",
       "      <td>94304-1337</td>\n",
       "      <td>Western Association of Schools and Colleges Se...</td>\n",
       "      <td>1</td>\n",
       "      <td>1</td>\n",
       "      <td>3</td>\n",
       "      <td>4</td>\n",
       "      <td>2</td>\n",
       "      <td>41.0</td>\n",
       "      <td>11.0</td>\n",
       "      <td>6.0</td>\n",
       "      <td>0.0</td>\n",
       "      <td>0.0</td>\n",
       "      <td>0.0</td>\n",
       "      <td>0.0</td>\n",
       "      <td>-2.0</td>\n",
       "      <td>0.0</td>\n",
       "      <td>194.0</td>\n",
       "      <td>29.712871</td>\n",
       "      <td>0.732673</td>\n",
       "      <td>0.188119</td>\n",
       "      <td>0.306931</td>\n",
       "      <td>18157.66968</td>\n",
       "      <td>68.23</td>\n",
       "      <td>449</td>\n",
       "    </tr>\n",
       "    <tr>\n",
       "      <th>2</th>\n",
       "      <td>Quincy University</td>\n",
       "      <td>Quincy</td>\n",
       "      <td>IL</td>\n",
       "      <td>62301-2699</td>\n",
       "      <td>North Central Association of Colleges and Scho...</td>\n",
       "      <td>1</td>\n",
       "      <td>1</td>\n",
       "      <td>3</td>\n",
       "      <td>4</td>\n",
       "      <td>2</td>\n",
       "      <td>33.0</td>\n",
       "      <td>13.0</td>\n",
       "      <td>11.0</td>\n",
       "      <td>0.0</td>\n",
       "      <td>0.0</td>\n",
       "      <td>0.0</td>\n",
       "      <td>0.0</td>\n",
       "      <td>30.0</td>\n",
       "      <td>0.0</td>\n",
       "      <td>1075.0</td>\n",
       "      <td>21.532362</td>\n",
       "      <td>0.543689</td>\n",
       "      <td>0.061489</td>\n",
       "      <td>0.826861</td>\n",
       "      <td>50437.83939</td>\n",
       "      <td>70.23</td>\n",
       "      <td>1121</td>\n",
       "    </tr>\n",
       "    <tr>\n",
       "      <th>3</th>\n",
       "      <td>Fortis College-Orange Park</td>\n",
       "      <td>Orange Park</td>\n",
       "      <td>FL</td>\n",
       "      <td>32065</td>\n",
       "      <td>Accrediting Council for Independent Colleges a...</td>\n",
       "      <td>1</td>\n",
       "      <td>2</td>\n",
       "      <td>1</td>\n",
       "      <td>2</td>\n",
       "      <td>3</td>\n",
       "      <td>21.0</td>\n",
       "      <td>4.0</td>\n",
       "      <td>1.0</td>\n",
       "      <td>0.0</td>\n",
       "      <td>0.0</td>\n",
       "      <td>0.0</td>\n",
       "      <td>0.0</td>\n",
       "      <td>-2.0</td>\n",
       "      <td>0.0</td>\n",
       "      <td>312.0</td>\n",
       "      <td>29.542683</td>\n",
       "      <td>0.847561</td>\n",
       "      <td>0.288618</td>\n",
       "      <td>0.256098</td>\n",
       "      <td>15967.10174</td>\n",
       "      <td>69.55</td>\n",
       "      <td>5343</td>\n",
       "    </tr>\n",
       "    <tr>\n",
       "      <th>4</th>\n",
       "      <td>Southwestern Assemblies of God University</td>\n",
       "      <td>Waxahachie</td>\n",
       "      <td>TX</td>\n",
       "      <td>75165</td>\n",
       "      <td>Southern Association of Colleges and Schools C...</td>\n",
       "      <td>1</td>\n",
       "      <td>1</td>\n",
       "      <td>3</td>\n",
       "      <td>4</td>\n",
       "      <td>2</td>\n",
       "      <td>21.0</td>\n",
       "      <td>11.0</td>\n",
       "      <td>10.0</td>\n",
       "      <td>0.0</td>\n",
       "      <td>0.0</td>\n",
       "      <td>0.0</td>\n",
       "      <td>0.0</td>\n",
       "      <td>27.0</td>\n",
       "      <td>0.0</td>\n",
       "      <td>1656.0</td>\n",
       "      <td>22.794651</td>\n",
       "      <td>0.475645</td>\n",
       "      <td>0.120344</td>\n",
       "      <td>0.763133</td>\n",
       "      <td>41197.69899</td>\n",
       "      <td>74.29</td>\n",
       "      <td>3782</td>\n",
       "    </tr>\n",
       "  </tbody>\n",
       "</table>\n",
       "</div>"
      ],
      "text/plain": [
       "                                      INSTNM         CITY STABBR         ZIP  \\\n",
       "0                             Panola College     Carthage     TX  75633-2397   \n",
       "1                       Palo Alto University    Palo Alto     CA  94304-1337   \n",
       "2                          Quincy University       Quincy     IL  62301-2699   \n",
       "3                 Fortis College-Orange Park  Orange Park     FL       32065   \n",
       "4  Southwestern Assemblies of God University   Waxahachie     TX       75165   \n",
       "\n",
       "                                        ACCREDAGENCY  MAIN  NUMBRANCH  \\\n",
       "0  Southern Association of Colleges and Schools C...     1          1   \n",
       "1  Western Association of Schools and Colleges Se...     1          1   \n",
       "2  North Central Association of Colleges and Scho...     1          1   \n",
       "3  Accrediting Council for Independent Colleges a...     1          2   \n",
       "4  Southern Association of Colleges and Schools C...     1          1   \n",
       "\n",
       "   PREDDEG  HIGHDEG  CONTROL  LOCALE  CCUGPROF  CCSIZSET  HBCU  PBI  MENONLY  \\\n",
       "0        1        2        1    32.0       2.0       2.0   0.0  0.0      0.0   \n",
       "1        3        4        2    41.0      11.0       6.0   0.0  0.0      0.0   \n",
       "2        3        4        2    33.0      13.0      11.0   0.0  0.0      0.0   \n",
       "3        1        2        3    21.0       4.0       1.0   0.0  0.0      0.0   \n",
       "4        3        4        2    21.0      11.0      10.0   0.0  0.0      0.0   \n",
       "\n",
       "   WOMENONLY  RELAFFIL  DISTANCEONLY    UGDS  AGE_ENTRY    FEMALE   MARRIED  \\\n",
       "0        0.0      -2.0           0.0  2056.0  25.927665  0.706853  0.176396   \n",
       "1        0.0      -2.0           0.0   194.0  29.712871  0.732673  0.188119   \n",
       "2        0.0      30.0           0.0  1075.0  21.532362  0.543689  0.061489   \n",
       "3        0.0      -2.0           0.0   312.0  29.542683  0.847561  0.288618   \n",
       "4        0.0      27.0           0.0  1656.0  22.794651  0.475645  0.120344   \n",
       "\n",
       "   DEPENDENT    MD_FAMINC  percent_on_student_loan  id_number  \n",
       "0   0.479061  19588.54338                    26.05       3756  \n",
       "1   0.306931  18157.66968                    68.23        449  \n",
       "2   0.826861  50437.83939                    70.23       1121  \n",
       "3   0.256098  15967.10174                    69.55       5343  \n",
       "4   0.763133  41197.69899                    74.29       3782  "
      ]
     },
     "execution_count": 6,
     "metadata": {},
     "output_type": "execute_result"
    }
   ],
   "source": [
    "aid_train.head()"
   ]
  },
  {
   "cell_type": "code",
   "execution_count": 10,
   "metadata": {
    "collapsed": false
   },
   "outputs": [
    {
     "data": {
      "text/plain": [
       "INSTNM                      object\n",
       "CITY                        object\n",
       "STABBR                      object\n",
       "ZIP                         object\n",
       "ACCREDAGENCY                object\n",
       "MAIN                         int64\n",
       "NUMBRANCH                    int64\n",
       "PREDDEG                      int64\n",
       "HIGHDEG                      int64\n",
       "CONTROL                      int64\n",
       "LOCALE                     float64\n",
       "CCUGPROF                   float64\n",
       "CCSIZSET                   float64\n",
       "HBCU                       float64\n",
       "PBI                        float64\n",
       "MENONLY                    float64\n",
       "WOMENONLY                  float64\n",
       "RELAFFIL                   float64\n",
       "DISTANCEONLY               float64\n",
       "UGDS                       float64\n",
       "AGE_ENTRY                  float64\n",
       "FEMALE                     float64\n",
       "MARRIED                    float64\n",
       "DEPENDENT                  float64\n",
       "MD_FAMINC                  float64\n",
       "percent_on_student_loan    float64\n",
       "id_number                    int64\n",
       "dtype: object"
      ]
     },
     "execution_count": 10,
     "metadata": {},
     "output_type": "execute_result"
    }
   ],
   "source": [
    "aid_train.dtypes"
   ]
  },
  {
   "cell_type": "code",
   "execution_count": 11,
   "metadata": {
    "collapsed": false
   },
   "outputs": [
    {
     "data": {
      "text/plain": [
       "INSTNM                     0\n",
       "CITY                       0\n",
       "STABBR                     0\n",
       "ZIP                        0\n",
       "ACCREDAGENCY               0\n",
       "MAIN                       0\n",
       "NUMBRANCH                  0\n",
       "PREDDEG                    0\n",
       "HIGHDEG                    0\n",
       "CONTROL                    0\n",
       "LOCALE                     0\n",
       "CCUGPROF                   0\n",
       "CCSIZSET                   0\n",
       "HBCU                       0\n",
       "PBI                        0\n",
       "MENONLY                    0\n",
       "WOMENONLY                  0\n",
       "RELAFFIL                   0\n",
       "DISTANCEONLY               0\n",
       "UGDS                       0\n",
       "AGE_ENTRY                  0\n",
       "FEMALE                     0\n",
       "MARRIED                    0\n",
       "DEPENDENT                  0\n",
       "MD_FAMINC                  0\n",
       "percent_on_student_loan    0\n",
       "id_number                  0\n",
       "dtype: int64"
      ]
     },
     "execution_count": 11,
     "metadata": {},
     "output_type": "execute_result"
    }
   ],
   "source": [
    "aid_train.isnull().sum()"
   ]
  },
  {
   "cell_type": "code",
   "execution_count": 12,
   "metadata": {
    "collapsed": false,
    "scrolled": true
   },
   "outputs": [
    {
     "data": {
      "text/plain": [
       "MAIN                      -0.258506\n",
       "NUMBRANCH                  0.201601\n",
       "PREDDEG                    0.126923\n",
       "HIGHDEG                    0.151109\n",
       "CONTROL                    0.495074\n",
       "LOCALE                    -0.199606\n",
       "CCUGPROF                   0.199184\n",
       "CCSIZSET                   0.071918\n",
       "HBCU                       0.081148\n",
       "PBI                       -0.041065\n",
       "MENONLY                         NaN\n",
       "WOMENONLY                  0.037098\n",
       "RELAFFIL                   0.149549\n",
       "DISTANCEONLY              -0.007857\n",
       "UGDS                      -0.223784\n",
       "AGE_ENTRY                  0.101364\n",
       "FEMALE                     0.215901\n",
       "MARRIED                    0.017200\n",
       "DEPENDENT                 -0.112031\n",
       "MD_FAMINC                  0.160331\n",
       "percent_on_student_loan    1.000000\n",
       "id_number                  0.206571\n",
       "Name: percent_on_student_loan, dtype: float64"
      ]
     },
     "execution_count": 12,
     "metadata": {},
     "output_type": "execute_result"
    }
   ],
   "source": [
    "aid_train.corr()[\"percent_on_student_loan\"]"
   ]
  },
  {
   "cell_type": "code",
   "execution_count": 13,
   "metadata": {
    "collapsed": false
   },
   "outputs": [
    {
     "data": {
      "text/plain": [
       "INSTNM          0\n",
       "CITY            0\n",
       "STABBR          0\n",
       "ZIP             0\n",
       "ACCREDAGENCY    0\n",
       "MAIN            0\n",
       "NUMBRANCH       0\n",
       "PREDDEG         0\n",
       "HIGHDEG         0\n",
       "CONTROL         0\n",
       "LOCALE          0\n",
       "CCUGPROF        0\n",
       "CCSIZSET        0\n",
       "HBCU            0\n",
       "PBI             0\n",
       "MENONLY         0\n",
       "WOMENONLY       0\n",
       "RELAFFIL        0\n",
       "DISTANCEONLY    0\n",
       "UGDS            0\n",
       "AGE_ENTRY       0\n",
       "FEMALE          0\n",
       "MARRIED         0\n",
       "DEPENDENT       0\n",
       "MD_FAMINC       0\n",
       "id_number       0\n",
       "dtype: int64"
      ]
     },
     "execution_count": 13,
     "metadata": {},
     "output_type": "execute_result"
    }
   ],
   "source": [
    "aid_test.isnull().sum()"
   ]
  },
  {
   "cell_type": "code",
   "execution_count": null,
   "metadata": {
    "collapsed": true
   },
   "outputs": [],
   "source": [
    "#columns for first pass of model and what they need:\n",
    "#FEMALE: all good, so just reshape\n",
    "#MD_FAMINC: ditto\n",
    "#CONTROL: reshape???, make dummies, drop one\n",
    "#LOCALE: ditto\n",
    "#STABBR: ditto\n",
    "#CITY: ditto\n",
    "#CCUGPROF: ditto\n",
    "#PREDDEG: ditto\n",
    "#HIGHDEG: ditto"
   ]
  },
  {
   "cell_type": "code",
   "execution_count": 18,
   "metadata": {
    "collapsed": false
   },
   "outputs": [
    {
     "data": {
      "text/plain": [
       "1546"
      ]
     },
     "execution_count": 18,
     "metadata": {},
     "output_type": "execute_result"
    }
   ],
   "source": [
    "aid_train[\"CITY\"].nunique()"
   ]
  },
  {
   "cell_type": "code",
   "execution_count": 19,
   "metadata": {
    "collapsed": false
   },
   "outputs": [
    {
     "data": {
      "text/plain": [
       "926"
      ]
     },
     "execution_count": 19,
     "metadata": {},
     "output_type": "execute_result"
    }
   ],
   "source": [
    "aid_test[\"CITY\"].nunique()"
   ]
  },
  {
   "cell_type": "code",
   "execution_count": null,
   "metadata": {
    "collapsed": true
   },
   "outputs": [],
   "source": []
  }
 ],
 "metadata": {
  "kernelspec": {
   "display_name": "Python 3",
   "language": "python",
   "name": "python3"
  },
  "language_info": {
   "codemirror_mode": {
    "name": "ipython",
    "version": 3
   },
   "file_extension": ".py",
   "mimetype": "text/x-python",
   "name": "python",
   "nbconvert_exporter": "python",
   "pygments_lexer": "ipython3",
   "version": "3.6.0"
  }
 },
 "nbformat": 4,
 "nbformat_minor": 2
}
