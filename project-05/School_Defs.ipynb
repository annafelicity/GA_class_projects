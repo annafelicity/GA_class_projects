{
 "cells": [
  {
   "cell_type": "code",
   "execution_count": 1,
   "metadata": {
    "collapsed": true
   },
   "outputs": [],
   "source": [
    "#strip percentage signs\n",
    "def strip_percent(column):\n",
    "    column = column.str.replace(\"%\", \"\")\n",
    "    column = column.apply(float)\n",
    "    return column"
   ]
  },
  {
   "cell_type": "code",
   "execution_count": 2,
   "metadata": {
    "collapsed": true
   },
   "outputs": [],
   "source": [
    "import pandas as pd\n",
    "import numpy as np"
   ]
  },
  {
   "cell_type": "code",
   "execution_count": 3,
   "metadata": {
    "collapsed": false
   },
   "outputs": [
    {
     "data": {
      "text/html": [
       "<div>\n",
       "<table border=\"1\" class=\"dataframe\">\n",
       "  <thead>\n",
       "    <tr style=\"text-align: right;\">\n",
       "      <th></th>\n",
       "      <th>Name of School</th>\n",
       "      <th>Elementary, Middle, or High School</th>\n",
       "      <th>Street Address</th>\n",
       "      <th>ZIP Code</th>\n",
       "      <th>Link</th>\n",
       "      <th>Healthy Schools Certified?</th>\n",
       "      <th>Safety Icon</th>\n",
       "      <th>Safety Score</th>\n",
       "      <th>Family Involvement Icon</th>\n",
       "      <th>Family Involvement Score</th>\n",
       "      <th>...</th>\n",
       "      <th>Graduation Rate %</th>\n",
       "      <th>College Enrollment Rate %</th>\n",
       "      <th>College Enrollment (number of students)</th>\n",
       "      <th>General Services Route</th>\n",
       "      <th>Freshman on Track Rate %</th>\n",
       "      <th>Community Area Number</th>\n",
       "      <th>Community Area Name</th>\n",
       "      <th>Ward</th>\n",
       "      <th>Police District</th>\n",
       "      <th>Id</th>\n",
       "    </tr>\n",
       "  </thead>\n",
       "  <tbody>\n",
       "    <tr>\n",
       "      <th>0</th>\n",
       "      <td>Countee Cullen Elementary School</td>\n",
       "      <td>ES</td>\n",
       "      <td>10650 S Eberhart Ave</td>\n",
       "      <td>60628</td>\n",
       "      <td>http://schoolreports.cps.edu/SchoolProgressRep...</td>\n",
       "      <td>No</td>\n",
       "      <td>Very Weak</td>\n",
       "      <td>14.0</td>\n",
       "      <td>NDA</td>\n",
       "      <td>NDA</td>\n",
       "      <td>...</td>\n",
       "      <td>NDA</td>\n",
       "      <td>NDA</td>\n",
       "      <td>233</td>\n",
       "      <td>48</td>\n",
       "      <td>NDA</td>\n",
       "      <td>49</td>\n",
       "      <td>ROSELAND</td>\n",
       "      <td>9</td>\n",
       "      <td>5</td>\n",
       "      <td>610004</td>\n",
       "    </tr>\n",
       "    <tr>\n",
       "      <th>1</th>\n",
       "      <td>Dewey Elementary Academy of Fine Arts</td>\n",
       "      <td>ES</td>\n",
       "      <td>5415 S Union Ave</td>\n",
       "      <td>60609</td>\n",
       "      <td>http://schoolreports.cps.edu/SchoolProgressRep...</td>\n",
       "      <td>No</td>\n",
       "      <td>Average</td>\n",
       "      <td>41.0</td>\n",
       "      <td>NDA</td>\n",
       "      <td>NDA</td>\n",
       "      <td>...</td>\n",
       "      <td>NDA</td>\n",
       "      <td>NDA</td>\n",
       "      <td>357</td>\n",
       "      <td>45</td>\n",
       "      <td>NDA</td>\n",
       "      <td>61</td>\n",
       "      <td>NEW CITY</td>\n",
       "      <td>3</td>\n",
       "      <td>9</td>\n",
       "      <td>609885</td>\n",
       "    </tr>\n",
       "    <tr>\n",
       "      <th>2</th>\n",
       "      <td>Julia C Lathrop Elementary School</td>\n",
       "      <td>ES</td>\n",
       "      <td>1440 S Christiana Ave</td>\n",
       "      <td>60623</td>\n",
       "      <td>http://schoolreports.cps.edu/SchoolProgressRep...</td>\n",
       "      <td>No</td>\n",
       "      <td>Strong</td>\n",
       "      <td>67.0</td>\n",
       "      <td>NDA</td>\n",
       "      <td>NDA</td>\n",
       "      <td>...</td>\n",
       "      <td>NDA</td>\n",
       "      <td>NDA</td>\n",
       "      <td>83</td>\n",
       "      <td>37</td>\n",
       "      <td>NDA</td>\n",
       "      <td>29</td>\n",
       "      <td>NORTH LAWNDALE</td>\n",
       "      <td>24</td>\n",
       "      <td>10</td>\n",
       "      <td>610253</td>\n",
       "    </tr>\n",
       "    <tr>\n",
       "      <th>3</th>\n",
       "      <td>George Armstrong International Studies Element...</td>\n",
       "      <td>ES</td>\n",
       "      <td>2110 W Greenleaf Ave</td>\n",
       "      <td>60645</td>\n",
       "      <td>http://schoolreports.cps.edu/SchoolProgressRep...</td>\n",
       "      <td>No</td>\n",
       "      <td>Average</td>\n",
       "      <td>59.0</td>\n",
       "      <td>Average</td>\n",
       "      <td>57</td>\n",
       "      <td>...</td>\n",
       "      <td>NDA</td>\n",
       "      <td>NDA</td>\n",
       "      <td>1509</td>\n",
       "      <td>32</td>\n",
       "      <td>NDA</td>\n",
       "      <td>2</td>\n",
       "      <td>WEST RIDGE</td>\n",
       "      <td>50</td>\n",
       "      <td>24</td>\n",
       "      <td>609779</td>\n",
       "    </tr>\n",
       "    <tr>\n",
       "      <th>4</th>\n",
       "      <td>Carl Schurz High School</td>\n",
       "      <td>HS</td>\n",
       "      <td>3601 N Milwaukee Ave</td>\n",
       "      <td>60641</td>\n",
       "      <td>http://schoolreports.cps.edu/SchoolProgressRep...</td>\n",
       "      <td>No</td>\n",
       "      <td>Average</td>\n",
       "      <td>48.0</td>\n",
       "      <td>Weak</td>\n",
       "      <td>36</td>\n",
       "      <td>...</td>\n",
       "      <td>62.1</td>\n",
       "      <td>40.4</td>\n",
       "      <td>2366</td>\n",
       "      <td>29</td>\n",
       "      <td>61.6</td>\n",
       "      <td>16</td>\n",
       "      <td>IRVING PARK</td>\n",
       "      <td>38</td>\n",
       "      <td>17</td>\n",
       "      <td>609729</td>\n",
       "    </tr>\n",
       "  </tbody>\n",
       "</table>\n",
       "<p>5 rows × 64 columns</p>\n",
       "</div>"
      ],
      "text/plain": [
       "                                      Name of School  \\\n",
       "0                   Countee Cullen Elementary School   \n",
       "1              Dewey Elementary Academy of Fine Arts   \n",
       "2                  Julia C Lathrop Elementary School   \n",
       "3  George Armstrong International Studies Element...   \n",
       "4                            Carl Schurz High School   \n",
       "\n",
       "  Elementary, Middle, or High School          Street Address  ZIP Code  \\\n",
       "0                                 ES   10650 S Eberhart Ave      60628   \n",
       "1                                 ES       5415 S Union Ave      60609   \n",
       "2                                 ES  1440 S Christiana Ave      60623   \n",
       "3                                 ES   2110 W Greenleaf Ave      60645   \n",
       "4                                 HS   3601 N Milwaukee Ave      60641   \n",
       "\n",
       "                                               Link   \\\n",
       "0  http://schoolreports.cps.edu/SchoolProgressRep...   \n",
       "1  http://schoolreports.cps.edu/SchoolProgressRep...   \n",
       "2  http://schoolreports.cps.edu/SchoolProgressRep...   \n",
       "3  http://schoolreports.cps.edu/SchoolProgressRep...   \n",
       "4  http://schoolreports.cps.edu/SchoolProgressRep...   \n",
       "\n",
       "  Healthy Schools Certified? Safety Icon   Safety Score  \\\n",
       "0                         No    Very Weak          14.0   \n",
       "1                         No      Average          41.0   \n",
       "2                         No       Strong          67.0   \n",
       "3                         No      Average          59.0   \n",
       "4                         No      Average          48.0   \n",
       "\n",
       "  Family Involvement Icon Family Involvement Score   ...   Graduation Rate %  \\\n",
       "0                     NDA                      NDA   ...                 NDA   \n",
       "1                     NDA                      NDA   ...                 NDA   \n",
       "2                     NDA                      NDA   ...                 NDA   \n",
       "3                 Average                       57   ...                 NDA   \n",
       "4                    Weak                       36   ...                62.1   \n",
       "\n",
       "   College Enrollment Rate % College Enrollment (number of students)   \\\n",
       "0                        NDA                                      233   \n",
       "1                        NDA                                      357   \n",
       "2                        NDA                                       83   \n",
       "3                        NDA                                     1509   \n",
       "4                       40.4                                     2366   \n",
       "\n",
       "   General Services Route  Freshman on Track Rate % Community Area Number  \\\n",
       "0                       48                      NDA                    49   \n",
       "1                       45                      NDA                    61   \n",
       "2                       37                      NDA                    29   \n",
       "3                       32                      NDA                     2   \n",
       "4                       29                     61.6                    16   \n",
       "\n",
       "  Community Area Name Ward Police District      Id  \n",
       "0            ROSELAND    9               5  610004  \n",
       "1            NEW CITY    3               9  609885  \n",
       "2      NORTH LAWNDALE   24              10  610253  \n",
       "3          WEST RIDGE   50              24  609779  \n",
       "4         IRVING PARK   38              17  609729  \n",
       "\n",
       "[5 rows x 64 columns]"
      ]
     },
     "execution_count": 3,
     "metadata": {},
     "output_type": "execute_result"
    }
   ],
   "source": [
    "test = pd.read_csv(\"school_data_test.csv\")\n",
    "test.head()"
   ]
  },
  {
   "cell_type": "code",
   "execution_count": 4,
   "metadata": {
    "collapsed": false
   },
   "outputs": [
    {
     "data": {
      "text/plain": [
       "dtype('O')"
      ]
     },
     "execution_count": 4,
     "metadata": {},
     "output_type": "execute_result"
    }
   ],
   "source": [
    "test[\"Average Student Attendance\"].dtype"
   ]
  },
  {
   "cell_type": "code",
   "execution_count": 10,
   "metadata": {
    "collapsed": false
   },
   "outputs": [
    {
     "data": {
      "text/plain": [
       "0    94.1\n",
       "1    90.7\n",
       "2    90.5\n",
       "3    96.3\n",
       "4    81.2\n",
       "Name: Average Student Attendance, dtype: float64"
      ]
     },
     "execution_count": 10,
     "metadata": {},
     "output_type": "execute_result"
    }
   ],
   "source": [
    "fixed = strip_percent(test[\"Average Student Attendance\"])\n",
    "fixed.head()"
   ]
  },
  {
   "cell_type": "code",
   "execution_count": 18,
   "metadata": {
    "collapsed": false
   },
   "outputs": [],
   "source": [
    "#make a generic column extractor:\n",
    "def col_extractor(df, col_name=\"column_name\"):\n",
    "    return df[col_name]"
   ]
  },
  {
   "cell_type": "code",
   "execution_count": 19,
   "metadata": {
    "collapsed": false
   },
   "outputs": [
    {
     "data": {
      "text/plain": [
       "0      94.1%\n",
       "1      90.7%\n",
       "2      90.5%\n",
       "3      96.3%\n",
       "4      81.2%\n",
       "5      93.8%\n",
       "6      95.1%\n",
       "7      96.1%\n",
       "8      96.8%\n",
       "9      92.2%\n",
       "10     75.2%\n",
       "11     92.5%\n",
       "12     69.6%\n",
       "13     90.6%\n",
       "14     91.9%\n",
       "15     95.7%\n",
       "16     93.8%\n",
       "17     94.9%\n",
       "18     94.9%\n",
       "19     95.9%\n",
       "20     95.6%\n",
       "21     96.2%\n",
       "22     92.8%\n",
       "23     91.0%\n",
       "24     95.5%\n",
       "25     96.6%\n",
       "26     95.1%\n",
       "27     96.7%\n",
       "28     96.8%\n",
       "29     91.6%\n",
       "       ...  \n",
       "108    95.5%\n",
       "109    96.9%\n",
       "110    92.0%\n",
       "111    94.5%\n",
       "112    92.5%\n",
       "113    93.8%\n",
       "114    96.0%\n",
       "115    92.4%\n",
       "116    93.6%\n",
       "117    93.2%\n",
       "118    95.8%\n",
       "119    89.7%\n",
       "120    95.8%\n",
       "121    97.0%\n",
       "122    96.3%\n",
       "123    96.5%\n",
       "124    91.9%\n",
       "125    91.4%\n",
       "126    95.1%\n",
       "127    95.6%\n",
       "128    81.1%\n",
       "129    92.2%\n",
       "130    91.2%\n",
       "131    88.9%\n",
       "132    95.4%\n",
       "133    95.0%\n",
       "134    96.4%\n",
       "135    94.9%\n",
       "136    93.4%\n",
       "137    95.2%\n",
       "Name: Average Student Attendance, dtype: object"
      ]
     },
     "execution_count": 19,
     "metadata": {},
     "output_type": "execute_result"
    }
   ],
   "source": [
    "col_extractor(test, col_name=\"Average Student Attendance\")"
   ]
  },
  {
   "cell_type": "code",
   "execution_count": null,
   "metadata": {
    "collapsed": true
   },
   "outputs": [],
   "source": []
  }
 ],
 "metadata": {
  "kernelspec": {
   "display_name": "Python 3",
   "language": "python",
   "name": "python3"
  },
  "language_info": {
   "codemirror_mode": {
    "name": "ipython",
    "version": 3
   },
   "file_extension": ".py",
   "mimetype": "text/x-python",
   "name": "python",
   "nbconvert_exporter": "python",
   "pygments_lexer": "ipython3",
   "version": "3.6.0"
  }
 },
 "nbformat": 4,
 "nbformat_minor": 2
}
