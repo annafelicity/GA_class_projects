{
 "cells": [
  {
   "cell_type": "code",
   "execution_count": 1,
   "metadata": {
    "collapsed": true
   },
   "outputs": [],
   "source": [
    "#1) import relevant libraries and stuff\n",
    "import numpy as np\n",
    "import pandas as pd\n",
    "from sklearn.linear_model import LinearRegression\n",
    "from sklearn.preprocessing import FunctionTransformer, LabelBinarizer\n",
    "from sklearn.pipeline import make_pipeline, make_union"
   ]
  },
  {
   "cell_type": "code",
   "execution_count": 2,
   "metadata": {
    "collapsed": true
   },
   "outputs": [],
   "source": [
    "pd.set_option('display.max_columns', 100)\n",
    "pd.set_option(\"display.max_rows\", 100)"
   ]
  },
  {
   "cell_type": "code",
   "execution_count": 3,
   "metadata": {
    "collapsed": true
   },
   "outputs": [],
   "source": [
    "#2) import train and test data\n",
    "aid_train = pd.read_csv('university_train.csv')\n",
    "aid_test = pd.read_csv('university_test.csv')"
   ]
  },
  {
   "cell_type": "code",
   "execution_count": 4,
   "metadata": {
    "collapsed": true
   },
   "outputs": [],
   "source": [
    "#3) operationalize y (y =\n",
    "target_train = aid_train[\"percent_on_student_loan\"]"
   ]
  },
  {
   "cell_type": "code",
   "execution_count": 5,
   "metadata": {
    "collapsed": true
   },
   "outputs": [],
   "source": [
    "#4) write all my definitions\n",
    "\n",
    "#column returns\n",
    "def female_col(df):\n",
    "    return df[\"FEMALE\"].values.reshape(-1, 1)\n",
    "\n",
    "def faminc_col(df):\n",
    "    return df[\"MD_FAMINC\"].values.reshape(-1, 1)\n",
    "\n",
    "def control_col(df):\n",
    "    return df[\"CONTROL\"].values.reshape(-1, 1)\n",
    "\n",
    "def locale_col(df):\n",
    "    return df[\"LOCALE\"].values.reshape(-1, 1)\n",
    "\n",
    "def state_col(df):\n",
    "    return df[\"STABBR\"].values.reshape(-1, 1)\n",
    "\n",
    "def ccugprof_col(df):\n",
    "    return df[\"CCUGPROF\"].values.reshape(-1, 1)\n",
    "\n",
    "def preddeg_col(df):\n",
    "    return df[\"PREDDEG\"].values.reshape(-1, 1)\n",
    "\n",
    "def highdeg_col(df):\n",
    "    return df[\"HIGHDEG\"].values.reshape(-1, 1)\n",
    "\n",
    "def drop_col(dummies_df):\n",
    "    return dummies_df[:,:-1]"
   ]
  },
  {
   "cell_type": "code",
   "execution_count": 6,
   "metadata": {
    "collapsed": true
   },
   "outputs": [],
   "source": [
    "#5) make pipelines to clean/transform data column by column for x \n",
    "female_pipe = make_pipeline(FunctionTransformer(female_col, validate=False))\n",
    "faminc_pipe = make_pipeline(FunctionTransformer(faminc_col, validate=False))\n",
    "control_pipe = make_pipeline(FunctionTransformer(control_col, validate=False), \n",
    "\tLabelBinarizer(), FunctionTransformer(drop_col, validate=False))\n",
    "locale_pipe = make_pipeline(FunctionTransformer(locale_col, validate=False),\n",
    "\tLabelBinarizer(), FunctionTransformer(drop_col, validate=False))\n",
    "state_pipe = make_pipeline(FunctionTransformer(state_col, validate=False),\n",
    "\tLabelBinarizer(), FunctionTransformer(drop_col, validate=False))\n",
    "ccugprof_pipe = make_pipeline(FunctionTransformer(ccugprof_col, validate=False),\n",
    "\tLabelBinarizer(), FunctionTransformer(drop_col, validate=False))\n",
    "preddeg_pipe = make_pipeline(FunctionTransformer(preddeg_col, validate=False),\n",
    "\tLabelBinarizer(), FunctionTransformer(drop_col, validate=False))\n",
    "highdeg_pipe = make_pipeline(FunctionTransformer(highdeg_col, validate=False),\n",
    "\tLabelBinarizer(), FunctionTransformer(drop_col, validate=False))"
   ]
  },
  {
   "cell_type": "code",
   "execution_count": 7,
   "metadata": {
    "collapsed": false,
    "scrolled": true
   },
   "outputs": [
    {
     "data": {
      "text/plain": [
       "array([[  7.06852792e-01,   1.95885434e+04,   1.00000000e+00, ...,\n",
       "          0.00000000e+00,   1.00000000e+00,   0.00000000e+00],\n",
       "       [  7.32673267e-01,   1.81576697e+04,   0.00000000e+00, ...,\n",
       "          0.00000000e+00,   0.00000000e+00,   0.00000000e+00],\n",
       "       [  5.43689320e-01,   5.04378394e+04,   0.00000000e+00, ...,\n",
       "          0.00000000e+00,   0.00000000e+00,   0.00000000e+00],\n",
       "       ..., \n",
       "       [  5.87945879e-01,   1.98868241e+04,   1.00000000e+00, ...,\n",
       "          0.00000000e+00,   1.00000000e+00,   0.00000000e+00],\n",
       "       [  9.19117647e-01,   2.11323314e+04,   0.00000000e+00, ...,\n",
       "          1.00000000e+00,   0.00000000e+00,   0.00000000e+00],\n",
       "       [  9.54625293e-01,   2.11292344e+04,   0.00000000e+00, ...,\n",
       "          1.00000000e+00,   0.00000000e+00,   0.00000000e+00]])"
      ]
     },
     "execution_count": 7,
     "metadata": {},
     "output_type": "execute_result"
    }
   ],
   "source": [
    "#6) create X with make_union\n",
    "union = make_union(female_pipe, faminc_pipe, control_pipe, locale_pipe, state_pipe, \n",
    "                   ccugprof_pipe, preddeg_pipe, highdeg_pipe)\n",
    "union.fit_transform(aid_train)"
   ]
  },
  {
   "cell_type": "code",
   "execution_count": 8,
   "metadata": {
    "collapsed": false
   },
   "outputs": [
    {
     "data": {
      "text/plain": [
       "96"
      ]
     },
     "execution_count": 8,
     "metadata": {},
     "output_type": "execute_result"
    }
   ],
   "source": [
    "len(union.fit_transform(aid_train)[0])"
   ]
  },
  {
   "cell_type": "code",
   "execution_count": 9,
   "metadata": {
    "collapsed": false
   },
   "outputs": [
    {
     "data": {
      "text/plain": [
       "LinearRegression(copy_X=True, fit_intercept=True, n_jobs=1, normalize=False)"
      ]
     },
     "execution_count": 9,
     "metadata": {},
     "output_type": "execute_result"
    }
   ],
   "source": [
    "#7) fit train to a model \n",
    "lr = LinearRegression()\n",
    "lr.fit(union.fit_transform(aid_train), target_train)"
   ]
  },
  {
   "cell_type": "code",
   "execution_count": 10,
   "metadata": {
    "collapsed": false
   },
   "outputs": [
    {
     "data": {
      "text/plain": [
       "0.54876649765320495"
      ]
     },
     "execution_count": 10,
     "metadata": {},
     "output_type": "execute_result"
    }
   ],
   "source": [
    "lr.score(union.fit_transform(aid_train), target_train)"
   ]
  },
  {
   "cell_type": "code",
   "execution_count": 11,
   "metadata": {
    "collapsed": false,
    "scrolled": false
   },
   "outputs": [
    {
     "data": {
      "text/plain": [
       "array([[  6.00301040e-01,   3.21199462e+04,   1.00000000e+00, ...,\n",
       "          0.00000000e+00,   0.00000000e+00,   0.00000000e+00],\n",
       "       [  5.63186813e-01,   1.89076581e+04,   1.00000000e+00, ...,\n",
       "          1.00000000e+00,   0.00000000e+00,   0.00000000e+00],\n",
       "       [  4.41208199e-01,   3.01987783e+04,   1.00000000e+00, ...,\n",
       "          0.00000000e+00,   1.00000000e+00,   0.00000000e+00],\n",
       "       ..., \n",
       "       [  5.30716345e-01,   6.91647628e+04,   1.00000000e+00, ...,\n",
       "          0.00000000e+00,   0.00000000e+00,   0.00000000e+00],\n",
       "       [  4.93223620e-01,   1.46061979e+04,   0.00000000e+00, ...,\n",
       "          1.00000000e+00,   0.00000000e+00,   0.00000000e+00],\n",
       "       [  5.66319972e-01,   2.02854816e+04,   1.00000000e+00, ...,\n",
       "          0.00000000e+00,   1.00000000e+00,   0.00000000e+00]])"
      ]
     },
     "execution_count": 11,
     "metadata": {},
     "output_type": "execute_result"
    }
   ],
   "source": [
    "union.transform(aid_test)"
   ]
  },
  {
   "cell_type": "code",
   "execution_count": 12,
   "metadata": {
    "collapsed": false
   },
   "outputs": [
    {
     "data": {
      "text/plain": [
       "96"
      ]
     },
     "execution_count": 12,
     "metadata": {},
     "output_type": "execute_result"
    }
   ],
   "source": [
    "len(union.transform(aid_test)[0])"
   ]
  },
  {
   "cell_type": "code",
   "execution_count": 13,
   "metadata": {
    "collapsed": false
   },
   "outputs": [],
   "source": [
    "#8) predict the model with the test dataset\n",
    "predictions = lr.predict(union.transform(aid_test))"
   ]
  },
  {
   "cell_type": "code",
   "execution_count": 14,
   "metadata": {
    "collapsed": false
   },
   "outputs": [],
   "source": [
    "#9) export results\n",
    "def evaluation_transformation(dataset, predictions):\n",
    "    dataset = dataset.join(pd.DataFrame(predictions, columns=['Prediction']))\n",
    "    dataset[['id_number', 'Prediction']].to_csv('submission_aid.csv', index=False)\n",
    "\n",
    "evaluation_transformation(aid_test, predictions)"
   ]
  },
  {
   "cell_type": "code",
   "execution_count": null,
   "metadata": {
    "collapsed": true
   },
   "outputs": [],
   "source": []
  }
 ],
 "metadata": {
  "kernelspec": {
   "display_name": "Python 3",
   "language": "python",
   "name": "python3"
  },
  "language_info": {
   "codemirror_mode": {
    "name": "ipython",
    "version": 3
   },
   "file_extension": ".py",
   "mimetype": "text/x-python",
   "name": "python",
   "nbconvert_exporter": "python",
   "pygments_lexer": "ipython3",
   "version": "3.6.0"
  }
 },
 "nbformat": 4,
 "nbformat_minor": 2
}
