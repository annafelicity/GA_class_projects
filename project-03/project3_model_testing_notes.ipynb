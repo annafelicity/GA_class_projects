{
 "cells": [
  {
   "cell_type": "code",
   "execution_count": null,
   "metadata": {
    "collapsed": true
   },
   "outputs": [],
   "source": [
    "% matplotlib inline\n",
    "\n",
    "from matplotlib import pyplot as plt\n",
    "# Make the plots bigger\n",
    "plt.rcParams['figure.figsize'] = 10, 10\n",
    "\n",
    "import numpy as np\n",
    "import pandas as pd\n",
    "from scipy import stats\n",
    "from sklearn import datasets\n",
    "from sklearn.linear_model import LinearRegression\n",
    "\n",
    "\n",
    "#import data"
   ]
  },
  {
   "cell_type": "code",
   "execution_count": null,
   "metadata": {
    "collapsed": true
   },
   "outputs": [],
   "source": [
    "#This is from 3.3.2\n",
    "#fit and plot a particular variable combo\n",
    "# Fit a line\n",
    "\n",
    "x = df[[\"PTRATIO\"]]\n",
    "y = df[\"AGE\"]\n",
    "\n",
    "lr = LinearRegression()\n",
    "lr.fit(x, y)\n",
    "predictions = lr.predict(x)\n",
    "\n",
    "# Plot the data and the best fit line\n",
    "## The data\n",
    "plt.scatter(x, y)\n",
    "## The line / model\n",
    "plt.plot(x, predictions)\n",
    "plt.ylabel(\"AGE\")\n",
    "plt.xlabel(\"PTRATIO\")"
   ]
  },
  {
   "cell_type": "code",
   "execution_count": null,
   "metadata": {
    "collapsed": true
   },
   "outputs": [],
   "source": [
    "#One way to plot all possible combinations of \n",
    "#Richard showed another way in class in 3.3.2, which included getting rid of the x = y part\n",
    "dict_of_r2s = {}\n",
    "for variable_x in df.columns:\n",
    "    x = df[[variable_x]]\n",
    "    for variable_y in df.columns:\n",
    "        y = df[variable_y]\n",
    "        lr = LinearRegression()\n",
    "        lr.fit(x, y)\n",
    "        predictions = lr.predict(x)\n",
    "        print (\"for %s, %s: r^2 = %s\" % (variable_x, variable_y, lr.score(x, y)))\n",
    "        dict_of_r2s[(variable_x, variable_y)] = lr.score(x, y)\n",
    "        \n",
    "#then you can sort the dictionary on the values and pull out the ones with the best r2 values"
   ]
  },
  {
   "cell_type": "code",
   "execution_count": null,
   "metadata": {
    "collapsed": true
   },
   "outputs": [],
   "source": [
    "#test train split stuff is in 3.3.3 (not mandatory for project)"
   ]
  }
 ],
 "metadata": {
  "kernelspec": {
   "display_name": "Python 3",
   "language": "python",
   "name": "python3"
  },
  "language_info": {
   "codemirror_mode": {
    "name": "ipython",
    "version": 3
   },
   "file_extension": ".py",
   "mimetype": "text/x-python",
   "name": "python",
   "nbconvert_exporter": "python",
   "pygments_lexer": "ipython3",
   "version": "3.6.0"
  }
 },
 "nbformat": 4,
 "nbformat_minor": 2
}
