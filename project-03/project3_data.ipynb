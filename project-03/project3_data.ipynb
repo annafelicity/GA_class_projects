{
 "cells": [
  {
   "cell_type": "code",
   "execution_count": 1,
   "metadata": {
    "collapsed": false,
    "scrolled": true
   },
   "outputs": [
    {
     "data": {
      "text/html": [
       "<div>\n",
       "<table border=\"1\" class=\"dataframe\">\n",
       "  <thead>\n",
       "    <tr style=\"text-align: right;\">\n",
       "      <th></th>\n",
       "      <th>Unnamed: 0</th>\n",
       "      <th>ItinID</th>\n",
       "      <th>FarePerMile</th>\n",
       "      <th>Coupons</th>\n",
       "      <th>Origin</th>\n",
       "      <th>RoundTrip</th>\n",
       "      <th>OnLine</th>\n",
       "      <th>RPCarrier</th>\n",
       "      <th>Passengers</th>\n",
       "      <th>ItinFare</th>\n",
       "      <th>BulkFare</th>\n",
       "      <th>Distance</th>\n",
       "      <th>DistanceGroup</th>\n",
       "      <th>MilesFlown</th>\n",
       "      <th>OriginState</th>\n",
       "    </tr>\n",
       "  </thead>\n",
       "  <tbody>\n",
       "    <tr>\n",
       "      <th>0</th>\n",
       "      <td>2936583</td>\n",
       "      <td>20161720654</td>\n",
       "      <td>0.2427</td>\n",
       "      <td>2</td>\n",
       "      <td>ORD</td>\n",
       "      <td>1.0</td>\n",
       "      <td>1.0</td>\n",
       "      <td>AA</td>\n",
       "      <td>1.0</td>\n",
       "      <td>896.0</td>\n",
       "      <td>0.0</td>\n",
       "      <td>3692.0</td>\n",
       "      <td>8</td>\n",
       "      <td>3692.0</td>\n",
       "      <td>IL</td>\n",
       "    </tr>\n",
       "    <tr>\n",
       "      <th>1</th>\n",
       "      <td>60732</td>\n",
       "      <td>201612861996</td>\n",
       "      <td>0.2103</td>\n",
       "      <td>2</td>\n",
       "      <td>ORD</td>\n",
       "      <td>1.0</td>\n",
       "      <td>1.0</td>\n",
       "      <td>OO</td>\n",
       "      <td>3.0</td>\n",
       "      <td>426.0</td>\n",
       "      <td>0.0</td>\n",
       "      <td>2026.0</td>\n",
       "      <td>5</td>\n",
       "      <td>2026.0</td>\n",
       "      <td>IL</td>\n",
       "    </tr>\n",
       "    <tr>\n",
       "      <th>2</th>\n",
       "      <td>1735933</td>\n",
       "      <td>201612425797</td>\n",
       "      <td>0.2565</td>\n",
       "      <td>2</td>\n",
       "      <td>ORD</td>\n",
       "      <td>1.0</td>\n",
       "      <td>0.0</td>\n",
       "      <td>G7</td>\n",
       "      <td>2.0</td>\n",
       "      <td>534.0</td>\n",
       "      <td>0.0</td>\n",
       "      <td>2082.0</td>\n",
       "      <td>5</td>\n",
       "      <td>2082.0</td>\n",
       "      <td>IL</td>\n",
       "    </tr>\n",
       "    <tr>\n",
       "      <th>3</th>\n",
       "      <td>1603577</td>\n",
       "      <td>201614110419</td>\n",
       "      <td>0.2793</td>\n",
       "      <td>2</td>\n",
       "      <td>MDW</td>\n",
       "      <td>1.0</td>\n",
       "      <td>1.0</td>\n",
       "      <td>WN</td>\n",
       "      <td>2.0</td>\n",
       "      <td>405.0</td>\n",
       "      <td>0.0</td>\n",
       "      <td>1450.0</td>\n",
       "      <td>3</td>\n",
       "      <td>1450.0</td>\n",
       "      <td>IL</td>\n",
       "    </tr>\n",
       "    <tr>\n",
       "      <th>4</th>\n",
       "      <td>2735471</td>\n",
       "      <td>201612424214</td>\n",
       "      <td>0.2054</td>\n",
       "      <td>2</td>\n",
       "      <td>ORD</td>\n",
       "      <td>1.0</td>\n",
       "      <td>1.0</td>\n",
       "      <td>G7</td>\n",
       "      <td>1.0</td>\n",
       "      <td>355.0</td>\n",
       "      <td>0.0</td>\n",
       "      <td>1728.0</td>\n",
       "      <td>4</td>\n",
       "      <td>1728.0</td>\n",
       "      <td>IL</td>\n",
       "    </tr>\n",
       "    <tr>\n",
       "      <th>5</th>\n",
       "      <td>506038</td>\n",
       "      <td>201613505604</td>\n",
       "      <td>0.1207</td>\n",
       "      <td>2</td>\n",
       "      <td>ORD</td>\n",
       "      <td>1.0</td>\n",
       "      <td>1.0</td>\n",
       "      <td>UA</td>\n",
       "      <td>4.0</td>\n",
       "      <td>289.0</td>\n",
       "      <td>0.0</td>\n",
       "      <td>2394.0</td>\n",
       "      <td>5</td>\n",
       "      <td>2394.0</td>\n",
       "      <td>IL</td>\n",
       "    </tr>\n",
       "    <tr>\n",
       "      <th>6</th>\n",
       "      <td>3007804</td>\n",
       "      <td>20161718764</td>\n",
       "      <td>0.0895</td>\n",
       "      <td>3</td>\n",
       "      <td>ORD</td>\n",
       "      <td>1.0</td>\n",
       "      <td>0.0</td>\n",
       "      <td>AA</td>\n",
       "      <td>1.0</td>\n",
       "      <td>302.0</td>\n",
       "      <td>0.0</td>\n",
       "      <td>3459.0</td>\n",
       "      <td>7</td>\n",
       "      <td>3374.0</td>\n",
       "      <td>IL</td>\n",
       "    </tr>\n",
       "    <tr>\n",
       "      <th>7</th>\n",
       "      <td>1123254</td>\n",
       "      <td>20161718070</td>\n",
       "      <td>0.1515</td>\n",
       "      <td>1</td>\n",
       "      <td>ORD</td>\n",
       "      <td>0.0</td>\n",
       "      <td>1.0</td>\n",
       "      <td>AA</td>\n",
       "      <td>9.0</td>\n",
       "      <td>261.0</td>\n",
       "      <td>0.0</td>\n",
       "      <td>1723.0</td>\n",
       "      <td>4</td>\n",
       "      <td>1723.0</td>\n",
       "      <td>IL</td>\n",
       "    </tr>\n",
       "    <tr>\n",
       "      <th>8</th>\n",
       "      <td>1163671</td>\n",
       "      <td>201612537908</td>\n",
       "      <td>1.4524</td>\n",
       "      <td>1</td>\n",
       "      <td>ORD</td>\n",
       "      <td>0.0</td>\n",
       "      <td>1.0</td>\n",
       "      <td>MQ</td>\n",
       "      <td>1.0</td>\n",
       "      <td>671.0</td>\n",
       "      <td>0.0</td>\n",
       "      <td>462.0</td>\n",
       "      <td>1</td>\n",
       "      <td>462.0</td>\n",
       "      <td>IL</td>\n",
       "    </tr>\n",
       "    <tr>\n",
       "      <th>9</th>\n",
       "      <td>1142378</td>\n",
       "      <td>20161716791</td>\n",
       "      <td>0.1197</td>\n",
       "      <td>1</td>\n",
       "      <td>ORD</td>\n",
       "      <td>0.0</td>\n",
       "      <td>1.0</td>\n",
       "      <td>AA</td>\n",
       "      <td>2.0</td>\n",
       "      <td>200.0</td>\n",
       "      <td>0.0</td>\n",
       "      <td>1671.0</td>\n",
       "      <td>4</td>\n",
       "      <td>1671.0</td>\n",
       "      <td>IL</td>\n",
       "    </tr>\n",
       "    <tr>\n",
       "      <th>10</th>\n",
       "      <td>1229840</td>\n",
       "      <td>201612866760</td>\n",
       "      <td>1.6119</td>\n",
       "      <td>1</td>\n",
       "      <td>ORD</td>\n",
       "      <td>0.0</td>\n",
       "      <td>1.0</td>\n",
       "      <td>OO</td>\n",
       "      <td>1.0</td>\n",
       "      <td>108.0</td>\n",
       "      <td>0.0</td>\n",
       "      <td>67.0</td>\n",
       "      <td>1</td>\n",
       "      <td>67.0</td>\n",
       "      <td>IL</td>\n",
       "    </tr>\n",
       "    <tr>\n",
       "      <th>11</th>\n",
       "      <td>910677</td>\n",
       "      <td>201612541144</td>\n",
       "      <td>0.5871</td>\n",
       "      <td>1</td>\n",
       "      <td>ORD</td>\n",
       "      <td>0.0</td>\n",
       "      <td>1.0</td>\n",
       "      <td>MQ</td>\n",
       "      <td>1.0</td>\n",
       "      <td>310.0</td>\n",
       "      <td>0.0</td>\n",
       "      <td>528.0</td>\n",
       "      <td>2</td>\n",
       "      <td>528.0</td>\n",
       "      <td>IL</td>\n",
       "    </tr>\n",
       "    <tr>\n",
       "      <th>12</th>\n",
       "      <td>773209</td>\n",
       "      <td>201612616596</td>\n",
       "      <td>0.0357</td>\n",
       "      <td>2</td>\n",
       "      <td>ORD</td>\n",
       "      <td>1.0</td>\n",
       "      <td>1.0</td>\n",
       "      <td>NK</td>\n",
       "      <td>2.0</td>\n",
       "      <td>108.0</td>\n",
       "      <td>0.0</td>\n",
       "      <td>3028.0</td>\n",
       "      <td>7</td>\n",
       "      <td>3028.0</td>\n",
       "      <td>IL</td>\n",
       "    </tr>\n",
       "    <tr>\n",
       "      <th>13</th>\n",
       "      <td>1509824</td>\n",
       "      <td>201613501660</td>\n",
       "      <td>0.2456</td>\n",
       "      <td>2</td>\n",
       "      <td>ORD</td>\n",
       "      <td>1.0</td>\n",
       "      <td>0.0</td>\n",
       "      <td>UA</td>\n",
       "      <td>1.0</td>\n",
       "      <td>360.0</td>\n",
       "      <td>0.0</td>\n",
       "      <td>1466.0</td>\n",
       "      <td>3</td>\n",
       "      <td>1466.0</td>\n",
       "      <td>IL</td>\n",
       "    </tr>\n",
       "    <tr>\n",
       "      <th>14</th>\n",
       "      <td>695575</td>\n",
       "      <td>201613501703</td>\n",
       "      <td>0.2565</td>\n",
       "      <td>2</td>\n",
       "      <td>ORD</td>\n",
       "      <td>1.0</td>\n",
       "      <td>0.0</td>\n",
       "      <td>UA</td>\n",
       "      <td>4.0</td>\n",
       "      <td>376.0</td>\n",
       "      <td>0.0</td>\n",
       "      <td>1466.0</td>\n",
       "      <td>3</td>\n",
       "      <td>1466.0</td>\n",
       "      <td>IL</td>\n",
       "    </tr>\n",
       "    <tr>\n",
       "      <th>15</th>\n",
       "      <td>1197503</td>\n",
       "      <td>201612537417</td>\n",
       "      <td>0.5605</td>\n",
       "      <td>1</td>\n",
       "      <td>ORD</td>\n",
       "      <td>0.0</td>\n",
       "      <td>1.0</td>\n",
       "      <td>MQ</td>\n",
       "      <td>1.0</td>\n",
       "      <td>403.0</td>\n",
       "      <td>0.0</td>\n",
       "      <td>719.0</td>\n",
       "      <td>2</td>\n",
       "      <td>719.0</td>\n",
       "      <td>IL</td>\n",
       "    </tr>\n",
       "    <tr>\n",
       "      <th>16</th>\n",
       "      <td>1253280</td>\n",
       "      <td>201613511126</td>\n",
       "      <td>0.4237</td>\n",
       "      <td>1</td>\n",
       "      <td>ORD</td>\n",
       "      <td>0.0</td>\n",
       "      <td>1.0</td>\n",
       "      <td>UA</td>\n",
       "      <td>1.0</td>\n",
       "      <td>175.0</td>\n",
       "      <td>0.0</td>\n",
       "      <td>413.0</td>\n",
       "      <td>1</td>\n",
       "      <td>413.0</td>\n",
       "      <td>IL</td>\n",
       "    </tr>\n",
       "    <tr>\n",
       "      <th>17</th>\n",
       "      <td>2129723</td>\n",
       "      <td>201612867319</td>\n",
       "      <td>0.1294</td>\n",
       "      <td>4</td>\n",
       "      <td>ORD</td>\n",
       "      <td>1.0</td>\n",
       "      <td>0.0</td>\n",
       "      <td>OO</td>\n",
       "      <td>1.0</td>\n",
       "      <td>213.0</td>\n",
       "      <td>0.0</td>\n",
       "      <td>1646.0</td>\n",
       "      <td>4</td>\n",
       "      <td>1646.0</td>\n",
       "      <td>IL</td>\n",
       "    </tr>\n",
       "    <tr>\n",
       "      <th>18</th>\n",
       "      <td>780042</td>\n",
       "      <td>201612270783</td>\n",
       "      <td>0.3662</td>\n",
       "      <td>2</td>\n",
       "      <td>MDW</td>\n",
       "      <td>1.0</td>\n",
       "      <td>1.0</td>\n",
       "      <td>EV</td>\n",
       "      <td>1.0</td>\n",
       "      <td>167.0</td>\n",
       "      <td>0.0</td>\n",
       "      <td>456.0</td>\n",
       "      <td>1</td>\n",
       "      <td>456.0</td>\n",
       "      <td>IL</td>\n",
       "    </tr>\n",
       "    <tr>\n",
       "      <th>19</th>\n",
       "      <td>1206240</td>\n",
       "      <td>20161722737</td>\n",
       "      <td>0.4302</td>\n",
       "      <td>1</td>\n",
       "      <td>ORD</td>\n",
       "      <td>0.0</td>\n",
       "      <td>1.0</td>\n",
       "      <td>AA</td>\n",
       "      <td>15.0</td>\n",
       "      <td>111.0</td>\n",
       "      <td>0.0</td>\n",
       "      <td>258.0</td>\n",
       "      <td>1</td>\n",
       "      <td>258.0</td>\n",
       "      <td>IL</td>\n",
       "    </tr>\n",
       "  </tbody>\n",
       "</table>\n",
       "</div>"
      ],
      "text/plain": [
       "    Unnamed: 0        ItinID  FarePerMile  Coupons Origin  RoundTrip  OnLine  \\\n",
       "0      2936583   20161720654       0.2427        2    ORD        1.0     1.0   \n",
       "1        60732  201612861996       0.2103        2    ORD        1.0     1.0   \n",
       "2      1735933  201612425797       0.2565        2    ORD        1.0     0.0   \n",
       "3      1603577  201614110419       0.2793        2    MDW        1.0     1.0   \n",
       "4      2735471  201612424214       0.2054        2    ORD        1.0     1.0   \n",
       "5       506038  201613505604       0.1207        2    ORD        1.0     1.0   \n",
       "6      3007804   20161718764       0.0895        3    ORD        1.0     0.0   \n",
       "7      1123254   20161718070       0.1515        1    ORD        0.0     1.0   \n",
       "8      1163671  201612537908       1.4524        1    ORD        0.0     1.0   \n",
       "9      1142378   20161716791       0.1197        1    ORD        0.0     1.0   \n",
       "10     1229840  201612866760       1.6119        1    ORD        0.0     1.0   \n",
       "11      910677  201612541144       0.5871        1    ORD        0.0     1.0   \n",
       "12      773209  201612616596       0.0357        2    ORD        1.0     1.0   \n",
       "13     1509824  201613501660       0.2456        2    ORD        1.0     0.0   \n",
       "14      695575  201613501703       0.2565        2    ORD        1.0     0.0   \n",
       "15     1197503  201612537417       0.5605        1    ORD        0.0     1.0   \n",
       "16     1253280  201613511126       0.4237        1    ORD        0.0     1.0   \n",
       "17     2129723  201612867319       0.1294        4    ORD        1.0     0.0   \n",
       "18      780042  201612270783       0.3662        2    MDW        1.0     1.0   \n",
       "19     1206240   20161722737       0.4302        1    ORD        0.0     1.0   \n",
       "\n",
       "   RPCarrier  Passengers  ItinFare  BulkFare  Distance  DistanceGroup  \\\n",
       "0         AA         1.0     896.0       0.0    3692.0              8   \n",
       "1         OO         3.0     426.0       0.0    2026.0              5   \n",
       "2         G7         2.0     534.0       0.0    2082.0              5   \n",
       "3         WN         2.0     405.0       0.0    1450.0              3   \n",
       "4         G7         1.0     355.0       0.0    1728.0              4   \n",
       "5         UA         4.0     289.0       0.0    2394.0              5   \n",
       "6         AA         1.0     302.0       0.0    3459.0              7   \n",
       "7         AA         9.0     261.0       0.0    1723.0              4   \n",
       "8         MQ         1.0     671.0       0.0     462.0              1   \n",
       "9         AA         2.0     200.0       0.0    1671.0              4   \n",
       "10        OO         1.0     108.0       0.0      67.0              1   \n",
       "11        MQ         1.0     310.0       0.0     528.0              2   \n",
       "12        NK         2.0     108.0       0.0    3028.0              7   \n",
       "13        UA         1.0     360.0       0.0    1466.0              3   \n",
       "14        UA         4.0     376.0       0.0    1466.0              3   \n",
       "15        MQ         1.0     403.0       0.0     719.0              2   \n",
       "16        UA         1.0     175.0       0.0     413.0              1   \n",
       "17        OO         1.0     213.0       0.0    1646.0              4   \n",
       "18        EV         1.0     167.0       0.0     456.0              1   \n",
       "19        AA        15.0     111.0       0.0     258.0              1   \n",
       "\n",
       "    MilesFlown OriginState  \n",
       "0       3692.0          IL  \n",
       "1       2026.0          IL  \n",
       "2       2082.0          IL  \n",
       "3       1450.0          IL  \n",
       "4       1728.0          IL  \n",
       "5       2394.0          IL  \n",
       "6       3374.0          IL  \n",
       "7       1723.0          IL  \n",
       "8        462.0          IL  \n",
       "9       1671.0          IL  \n",
       "10        67.0          IL  \n",
       "11       528.0          IL  \n",
       "12      3028.0          IL  \n",
       "13      1466.0          IL  \n",
       "14      1466.0          IL  \n",
       "15       719.0          IL  \n",
       "16       413.0          IL  \n",
       "17      1646.0          IL  \n",
       "18       456.0          IL  \n",
       "19       258.0          IL  "
      ]
     },
     "execution_count": 1,
     "metadata": {},
     "output_type": "execute_result"
    }
   ],
   "source": [
    "import pandas as pd\n",
    "import numpy as np\n",
    "import matplotlib.pyplot as plt\n",
    "%matplotlib inline\n",
    "\n",
    "file_path = \"airline_10.csv\"\n",
    "\n",
    "df = pd.read_csv(file_path)\n",
    "df.head(20)"
   ]
  },
  {
   "cell_type": "code",
   "execution_count": 2,
   "metadata": {
    "collapsed": false
   },
   "outputs": [
    {
     "data": {
      "text/plain": [
       "(12309, 15)"
      ]
     },
     "execution_count": 2,
     "metadata": {},
     "output_type": "execute_result"
    }
   ],
   "source": [
    "df.shape"
   ]
  },
  {
   "cell_type": "code",
   "execution_count": 3,
   "metadata": {
    "collapsed": false
   },
   "outputs": [
    {
     "data": {
      "text/html": [
       "<div>\n",
       "<table border=\"1\" class=\"dataframe\">\n",
       "  <thead>\n",
       "    <tr style=\"text-align: right;\">\n",
       "      <th></th>\n",
       "      <th>Unnamed: 0</th>\n",
       "      <th>ItinID</th>\n",
       "      <th>FarePerMile</th>\n",
       "      <th>Coupons</th>\n",
       "      <th>RoundTrip</th>\n",
       "      <th>OnLine</th>\n",
       "      <th>Passengers</th>\n",
       "      <th>ItinFare</th>\n",
       "      <th>BulkFare</th>\n",
       "      <th>Distance</th>\n",
       "      <th>DistanceGroup</th>\n",
       "      <th>MilesFlown</th>\n",
       "    </tr>\n",
       "  </thead>\n",
       "  <tbody>\n",
       "    <tr>\n",
       "      <th>count</th>\n",
       "      <td>1.230900e+04</td>\n",
       "      <td>1.230900e+04</td>\n",
       "      <td>12309.000000</td>\n",
       "      <td>12309.000000</td>\n",
       "      <td>12309.000000</td>\n",
       "      <td>12309.000000</td>\n",
       "      <td>12309.000000</td>\n",
       "      <td>12309.000000</td>\n",
       "      <td>12309.0</td>\n",
       "      <td>12309.000000</td>\n",
       "      <td>12309.000000</td>\n",
       "      <td>12309.000000</td>\n",
       "    </tr>\n",
       "    <tr>\n",
       "      <th>mean</th>\n",
       "      <td>1.477697e+06</td>\n",
       "      <td>1.551705e+11</td>\n",
       "      <td>0.317945</td>\n",
       "      <td>2.132017</td>\n",
       "      <td>0.712568</td>\n",
       "      <td>0.709156</td>\n",
       "      <td>2.276871</td>\n",
       "      <td>392.888212</td>\n",
       "      <td>0.0</td>\n",
       "      <td>1866.186936</td>\n",
       "      <td>4.224795</td>\n",
       "      <td>1856.689495</td>\n",
       "    </tr>\n",
       "    <tr>\n",
       "      <th>std</th>\n",
       "      <td>1.014920e+06</td>\n",
       "      <td>7.938248e+10</td>\n",
       "      <td>0.353802</td>\n",
       "      <td>0.863276</td>\n",
       "      <td>0.452583</td>\n",
       "      <td>0.454170</td>\n",
       "      <td>4.990423</td>\n",
       "      <td>196.072252</td>\n",
       "      <td>0.0</td>\n",
       "      <td>1271.250978</td>\n",
       "      <td>2.541962</td>\n",
       "      <td>1264.186511</td>\n",
       "    </tr>\n",
       "    <tr>\n",
       "      <th>min</th>\n",
       "      <td>6.910000e+02</td>\n",
       "      <td>2.016151e+09</td>\n",
       "      <td>0.019300</td>\n",
       "      <td>1.000000</td>\n",
       "      <td>0.000000</td>\n",
       "      <td>0.000000</td>\n",
       "      <td>1.000000</td>\n",
       "      <td>101.000000</td>\n",
       "      <td>0.0</td>\n",
       "      <td>67.000000</td>\n",
       "      <td>1.000000</td>\n",
       "      <td>67.000000</td>\n",
       "    </tr>\n",
       "    <tr>\n",
       "      <th>25%</th>\n",
       "      <td>6.361510e+05</td>\n",
       "      <td>2.016172e+10</td>\n",
       "      <td>0.134900</td>\n",
       "      <td>2.000000</td>\n",
       "      <td>0.000000</td>\n",
       "      <td>0.000000</td>\n",
       "      <td>1.000000</td>\n",
       "      <td>241.000000</td>\n",
       "      <td>0.0</td>\n",
       "      <td>977.000000</td>\n",
       "      <td>2.000000</td>\n",
       "      <td>972.000000</td>\n",
       "    </tr>\n",
       "    <tr>\n",
       "      <th>50%</th>\n",
       "      <td>1.250063e+06</td>\n",
       "      <td>2.016128e+11</td>\n",
       "      <td>0.216700</td>\n",
       "      <td>2.000000</td>\n",
       "      <td>1.000000</td>\n",
       "      <td>1.000000</td>\n",
       "      <td>1.000000</td>\n",
       "      <td>356.000000</td>\n",
       "      <td>0.0</td>\n",
       "      <td>1661.000000</td>\n",
       "      <td>4.000000</td>\n",
       "      <td>1650.000000</td>\n",
       "    </tr>\n",
       "    <tr>\n",
       "      <th>75%</th>\n",
       "      <td>2.410517e+06</td>\n",
       "      <td>2.016135e+11</td>\n",
       "      <td>0.371300</td>\n",
       "      <td>2.000000</td>\n",
       "      <td>1.000000</td>\n",
       "      <td>1.000000</td>\n",
       "      <td>2.000000</td>\n",
       "      <td>504.000000</td>\n",
       "      <td>0.0</td>\n",
       "      <td>2364.000000</td>\n",
       "      <td>5.000000</td>\n",
       "      <td>2364.000000</td>\n",
       "    </tr>\n",
       "    <tr>\n",
       "      <th>max</th>\n",
       "      <td>3.489660e+06</td>\n",
       "      <td>2.016146e+11</td>\n",
       "      <td>9.083300</td>\n",
       "      <td>8.000000</td>\n",
       "      <td>1.000000</td>\n",
       "      <td>1.000000</td>\n",
       "      <td>150.000000</td>\n",
       "      <td>1000.000000</td>\n",
       "      <td>0.0</td>\n",
       "      <td>9243.000000</td>\n",
       "      <td>19.000000</td>\n",
       "      <td>9243.000000</td>\n",
       "    </tr>\n",
       "  </tbody>\n",
       "</table>\n",
       "</div>"
      ],
      "text/plain": [
       "         Unnamed: 0        ItinID   FarePerMile       Coupons     RoundTrip  \\\n",
       "count  1.230900e+04  1.230900e+04  12309.000000  12309.000000  12309.000000   \n",
       "mean   1.477697e+06  1.551705e+11      0.317945      2.132017      0.712568   \n",
       "std    1.014920e+06  7.938248e+10      0.353802      0.863276      0.452583   \n",
       "min    6.910000e+02  2.016151e+09      0.019300      1.000000      0.000000   \n",
       "25%    6.361510e+05  2.016172e+10      0.134900      2.000000      0.000000   \n",
       "50%    1.250063e+06  2.016128e+11      0.216700      2.000000      1.000000   \n",
       "75%    2.410517e+06  2.016135e+11      0.371300      2.000000      1.000000   \n",
       "max    3.489660e+06  2.016146e+11      9.083300      8.000000      1.000000   \n",
       "\n",
       "             OnLine    Passengers      ItinFare  BulkFare      Distance  \\\n",
       "count  12309.000000  12309.000000  12309.000000   12309.0  12309.000000   \n",
       "mean       0.709156      2.276871    392.888212       0.0   1866.186936   \n",
       "std        0.454170      4.990423    196.072252       0.0   1271.250978   \n",
       "min        0.000000      1.000000    101.000000       0.0     67.000000   \n",
       "25%        0.000000      1.000000    241.000000       0.0    977.000000   \n",
       "50%        1.000000      1.000000    356.000000       0.0   1661.000000   \n",
       "75%        1.000000      2.000000    504.000000       0.0   2364.000000   \n",
       "max        1.000000    150.000000   1000.000000       0.0   9243.000000   \n",
       "\n",
       "       DistanceGroup    MilesFlown  \n",
       "count   12309.000000  12309.000000  \n",
       "mean        4.224795   1856.689495  \n",
       "std         2.541962   1264.186511  \n",
       "min         1.000000     67.000000  \n",
       "25%         2.000000    972.000000  \n",
       "50%         4.000000   1650.000000  \n",
       "75%         5.000000   2364.000000  \n",
       "max        19.000000   9243.000000  "
      ]
     },
     "execution_count": 3,
     "metadata": {},
     "output_type": "execute_result"
    }
   ],
   "source": [
    "df.describe()"
   ]
  },
  {
   "cell_type": "code",
   "execution_count": 4,
   "metadata": {
    "collapsed": false,
    "scrolled": true
   },
   "outputs": [
    {
     "data": {
      "text/plain": [
       "Unnamed: 0         int64\n",
       "ItinID             int64\n",
       "FarePerMile      float64\n",
       "Coupons            int64\n",
       "Origin            object\n",
       "RoundTrip        float64\n",
       "OnLine           float64\n",
       "RPCarrier         object\n",
       "Passengers       float64\n",
       "ItinFare         float64\n",
       "BulkFare         float64\n",
       "Distance         float64\n",
       "DistanceGroup      int64\n",
       "MilesFlown       float64\n",
       "OriginState       object\n",
       "dtype: object"
      ]
     },
     "execution_count": 4,
     "metadata": {},
     "output_type": "execute_result"
    }
   ],
   "source": [
    "df.dtypes"
   ]
  },
  {
   "cell_type": "code",
   "execution_count": 5,
   "metadata": {
    "collapsed": false
   },
   "outputs": [
    {
     "data": {
      "text/html": [
       "<div>\n",
       "<table border=\"1\" class=\"dataframe\">\n",
       "  <thead>\n",
       "    <tr style=\"text-align: right;\">\n",
       "      <th></th>\n",
       "      <th>Unnamed: 0</th>\n",
       "      <th>ItinID</th>\n",
       "      <th>FarePerMile</th>\n",
       "      <th>Coupons</th>\n",
       "      <th>Origin</th>\n",
       "      <th>RoundTrip</th>\n",
       "      <th>OnLine</th>\n",
       "      <th>RPCarrier</th>\n",
       "      <th>Passengers</th>\n",
       "      <th>ItinFare</th>\n",
       "      <th>BulkFare</th>\n",
       "      <th>Distance</th>\n",
       "      <th>DistanceGroup</th>\n",
       "      <th>MilesFlown</th>\n",
       "      <th>OriginState</th>\n",
       "      <th>DistanceLog</th>\n",
       "      <th>DistanceSqrt</th>\n",
       "      <th>DistanceSqd</th>\n",
       "    </tr>\n",
       "  </thead>\n",
       "  <tbody>\n",
       "    <tr>\n",
       "      <th>0</th>\n",
       "      <td>2936583</td>\n",
       "      <td>20161720654</td>\n",
       "      <td>0.2427</td>\n",
       "      <td>2</td>\n",
       "      <td>ORD</td>\n",
       "      <td>1.0</td>\n",
       "      <td>1.0</td>\n",
       "      <td>AA</td>\n",
       "      <td>1.0</td>\n",
       "      <td>896.0</td>\n",
       "      <td>0.0</td>\n",
       "      <td>3692.0</td>\n",
       "      <td>8</td>\n",
       "      <td>3692.0</td>\n",
       "      <td>IL</td>\n",
       "      <td>8.213924</td>\n",
       "      <td>60.761830</td>\n",
       "      <td>13630864.0</td>\n",
       "    </tr>\n",
       "    <tr>\n",
       "      <th>1</th>\n",
       "      <td>60732</td>\n",
       "      <td>201612861996</td>\n",
       "      <td>0.2103</td>\n",
       "      <td>2</td>\n",
       "      <td>ORD</td>\n",
       "      <td>1.0</td>\n",
       "      <td>1.0</td>\n",
       "      <td>OO</td>\n",
       "      <td>3.0</td>\n",
       "      <td>426.0</td>\n",
       "      <td>0.0</td>\n",
       "      <td>2026.0</td>\n",
       "      <td>5</td>\n",
       "      <td>2026.0</td>\n",
       "      <td>IL</td>\n",
       "      <td>7.613819</td>\n",
       "      <td>45.011110</td>\n",
       "      <td>4104676.0</td>\n",
       "    </tr>\n",
       "    <tr>\n",
       "      <th>2</th>\n",
       "      <td>1735933</td>\n",
       "      <td>201612425797</td>\n",
       "      <td>0.2565</td>\n",
       "      <td>2</td>\n",
       "      <td>ORD</td>\n",
       "      <td>1.0</td>\n",
       "      <td>0.0</td>\n",
       "      <td>G7</td>\n",
       "      <td>2.0</td>\n",
       "      <td>534.0</td>\n",
       "      <td>0.0</td>\n",
       "      <td>2082.0</td>\n",
       "      <td>5</td>\n",
       "      <td>2082.0</td>\n",
       "      <td>IL</td>\n",
       "      <td>7.641084</td>\n",
       "      <td>45.628938</td>\n",
       "      <td>4334724.0</td>\n",
       "    </tr>\n",
       "    <tr>\n",
       "      <th>3</th>\n",
       "      <td>1603577</td>\n",
       "      <td>201614110419</td>\n",
       "      <td>0.2793</td>\n",
       "      <td>2</td>\n",
       "      <td>MDW</td>\n",
       "      <td>1.0</td>\n",
       "      <td>1.0</td>\n",
       "      <td>WN</td>\n",
       "      <td>2.0</td>\n",
       "      <td>405.0</td>\n",
       "      <td>0.0</td>\n",
       "      <td>1450.0</td>\n",
       "      <td>3</td>\n",
       "      <td>1450.0</td>\n",
       "      <td>IL</td>\n",
       "      <td>7.279319</td>\n",
       "      <td>38.078866</td>\n",
       "      <td>2102500.0</td>\n",
       "    </tr>\n",
       "    <tr>\n",
       "      <th>4</th>\n",
       "      <td>2735471</td>\n",
       "      <td>201612424214</td>\n",
       "      <td>0.2054</td>\n",
       "      <td>2</td>\n",
       "      <td>ORD</td>\n",
       "      <td>1.0</td>\n",
       "      <td>1.0</td>\n",
       "      <td>G7</td>\n",
       "      <td>1.0</td>\n",
       "      <td>355.0</td>\n",
       "      <td>0.0</td>\n",
       "      <td>1728.0</td>\n",
       "      <td>4</td>\n",
       "      <td>1728.0</td>\n",
       "      <td>IL</td>\n",
       "      <td>7.454720</td>\n",
       "      <td>41.569219</td>\n",
       "      <td>2985984.0</td>\n",
       "    </tr>\n",
       "  </tbody>\n",
       "</table>\n",
       "</div>"
      ],
      "text/plain": [
       "   Unnamed: 0        ItinID  FarePerMile  Coupons Origin  RoundTrip  OnLine  \\\n",
       "0     2936583   20161720654       0.2427        2    ORD        1.0     1.0   \n",
       "1       60732  201612861996       0.2103        2    ORD        1.0     1.0   \n",
       "2     1735933  201612425797       0.2565        2    ORD        1.0     0.0   \n",
       "3     1603577  201614110419       0.2793        2    MDW        1.0     1.0   \n",
       "4     2735471  201612424214       0.2054        2    ORD        1.0     1.0   \n",
       "\n",
       "  RPCarrier  Passengers  ItinFare  BulkFare  Distance  DistanceGroup  \\\n",
       "0        AA         1.0     896.0       0.0    3692.0              8   \n",
       "1        OO         3.0     426.0       0.0    2026.0              5   \n",
       "2        G7         2.0     534.0       0.0    2082.0              5   \n",
       "3        WN         2.0     405.0       0.0    1450.0              3   \n",
       "4        G7         1.0     355.0       0.0    1728.0              4   \n",
       "\n",
       "   MilesFlown OriginState  DistanceLog  DistanceSqrt  DistanceSqd  \n",
       "0      3692.0          IL     8.213924     60.761830   13630864.0  \n",
       "1      2026.0          IL     7.613819     45.011110    4104676.0  \n",
       "2      2082.0          IL     7.641084     45.628938    4334724.0  \n",
       "3      1450.0          IL     7.279319     38.078866    2102500.0  \n",
       "4      1728.0          IL     7.454720     41.569219    2985984.0  "
      ]
     },
     "execution_count": 5,
     "metadata": {},
     "output_type": "execute_result"
    }
   ],
   "source": [
    "#adds a column to the whole dataframe with the log of the distance\n",
    "df[\"DistanceLog\"] = df[\"Distance\"].apply(lambda x: np.log(x))\n",
    "#adds square root column to df for distance\n",
    "df[\"DistanceSqrt\"] = df[\"Distance\"].apply(lambda x: np.sqrt(x))\n",
    "#adds a column with distance squared\n",
    "df[\"DistanceSqd\"] = df[\"Distance\"].apply(lambda x: x ** 2)\n",
    "df.head()"
   ]
  },
  {
   "cell_type": "code",
   "execution_count": 6,
   "metadata": {
    "collapsed": false
   },
   "outputs": [
    {
     "data": {
      "text/plain": [
       "count    8771.000000\n",
       "mean      426.549880\n",
       "std       192.551103\n",
       "min       101.000000\n",
       "25%       281.000000\n",
       "50%       390.000000\n",
       "75%       537.000000\n",
       "max      1000.000000\n",
       "Name: ItinFare, dtype: float64"
      ]
     },
     "execution_count": 6,
     "metadata": {},
     "output_type": "execute_result"
    }
   ],
   "source": [
    "#see if there's a significant difference between rt and ow fares\n",
    "df_rt = df.loc[(df[\"RoundTrip\"] == 1.0)]\n",
    "df_rt[\"ItinFare\"].describe()"
   ]
  },
  {
   "cell_type": "code",
   "execution_count": 7,
   "metadata": {
    "collapsed": false
   },
   "outputs": [
    {
     "data": {
      "text/plain": [
       "count    3538.000000\n",
       "mean      309.438101\n",
       "std       179.087677\n",
       "min       101.000000\n",
       "25%       177.000000\n",
       "50%       252.000000\n",
       "75%       398.000000\n",
       "max       998.000000\n",
       "Name: ItinFare, dtype: float64"
      ]
     },
     "execution_count": 7,
     "metadata": {},
     "output_type": "execute_result"
    }
   ],
   "source": [
    "df_ow = df.loc[(df[\"RoundTrip\"] != 1.0)]\n",
    "df_ow[\"ItinFare\"].describe()"
   ]
  },
  {
   "cell_type": "code",
   "execution_count": 8,
   "metadata": {
    "collapsed": false,
    "scrolled": true
   },
   "outputs": [
    {
     "data": {
      "text/html": [
       "<div>\n",
       "<table border=\"1\" class=\"dataframe\">\n",
       "  <thead>\n",
       "    <tr style=\"text-align: right;\">\n",
       "      <th></th>\n",
       "      <th>Unnamed: 0</th>\n",
       "      <th>ItinID</th>\n",
       "      <th>FarePerMile</th>\n",
       "      <th>Coupons</th>\n",
       "      <th>Origin</th>\n",
       "      <th>RoundTrip</th>\n",
       "      <th>OnLine</th>\n",
       "      <th>RPCarrier</th>\n",
       "      <th>Passengers</th>\n",
       "      <th>ItinFare</th>\n",
       "      <th>BulkFare</th>\n",
       "      <th>Distance</th>\n",
       "      <th>DistanceGroup</th>\n",
       "      <th>MilesFlown</th>\n",
       "      <th>OriginState</th>\n",
       "      <th>DistanceLog</th>\n",
       "      <th>DistanceSqrt</th>\n",
       "      <th>DistanceSqd</th>\n",
       "    </tr>\n",
       "  </thead>\n",
       "  <tbody>\n",
       "    <tr>\n",
       "      <th>0</th>\n",
       "      <td>2936583</td>\n",
       "      <td>20161720654</td>\n",
       "      <td>0.2427</td>\n",
       "      <td>2</td>\n",
       "      <td>ORD</td>\n",
       "      <td>1.0</td>\n",
       "      <td>1.0</td>\n",
       "      <td>AA</td>\n",
       "      <td>1.0</td>\n",
       "      <td>896.0</td>\n",
       "      <td>0.0</td>\n",
       "      <td>3692.0</td>\n",
       "      <td>8</td>\n",
       "      <td>3692.0</td>\n",
       "      <td>IL</td>\n",
       "      <td>8.213924</td>\n",
       "      <td>60.761830</td>\n",
       "      <td>13630864.0</td>\n",
       "    </tr>\n",
       "    <tr>\n",
       "      <th>1</th>\n",
       "      <td>60732</td>\n",
       "      <td>201612861996</td>\n",
       "      <td>0.2103</td>\n",
       "      <td>2</td>\n",
       "      <td>ORD</td>\n",
       "      <td>1.0</td>\n",
       "      <td>1.0</td>\n",
       "      <td>OO</td>\n",
       "      <td>3.0</td>\n",
       "      <td>426.0</td>\n",
       "      <td>0.0</td>\n",
       "      <td>2026.0</td>\n",
       "      <td>5</td>\n",
       "      <td>2026.0</td>\n",
       "      <td>IL</td>\n",
       "      <td>7.613819</td>\n",
       "      <td>45.011110</td>\n",
       "      <td>4104676.0</td>\n",
       "    </tr>\n",
       "    <tr>\n",
       "      <th>2</th>\n",
       "      <td>1735933</td>\n",
       "      <td>201612425797</td>\n",
       "      <td>0.2565</td>\n",
       "      <td>2</td>\n",
       "      <td>ORD</td>\n",
       "      <td>1.0</td>\n",
       "      <td>0.0</td>\n",
       "      <td>G7</td>\n",
       "      <td>2.0</td>\n",
       "      <td>534.0</td>\n",
       "      <td>0.0</td>\n",
       "      <td>2082.0</td>\n",
       "      <td>5</td>\n",
       "      <td>2082.0</td>\n",
       "      <td>IL</td>\n",
       "      <td>7.641084</td>\n",
       "      <td>45.628938</td>\n",
       "      <td>4334724.0</td>\n",
       "    </tr>\n",
       "    <tr>\n",
       "      <th>3</th>\n",
       "      <td>1603577</td>\n",
       "      <td>201614110419</td>\n",
       "      <td>0.2793</td>\n",
       "      <td>2</td>\n",
       "      <td>MDW</td>\n",
       "      <td>1.0</td>\n",
       "      <td>1.0</td>\n",
       "      <td>WN</td>\n",
       "      <td>2.0</td>\n",
       "      <td>405.0</td>\n",
       "      <td>0.0</td>\n",
       "      <td>1450.0</td>\n",
       "      <td>3</td>\n",
       "      <td>1450.0</td>\n",
       "      <td>IL</td>\n",
       "      <td>7.279319</td>\n",
       "      <td>38.078866</td>\n",
       "      <td>2102500.0</td>\n",
       "    </tr>\n",
       "    <tr>\n",
       "      <th>4</th>\n",
       "      <td>2735471</td>\n",
       "      <td>201612424214</td>\n",
       "      <td>0.2054</td>\n",
       "      <td>2</td>\n",
       "      <td>ORD</td>\n",
       "      <td>1.0</td>\n",
       "      <td>1.0</td>\n",
       "      <td>G7</td>\n",
       "      <td>1.0</td>\n",
       "      <td>355.0</td>\n",
       "      <td>0.0</td>\n",
       "      <td>1728.0</td>\n",
       "      <td>4</td>\n",
       "      <td>1728.0</td>\n",
       "      <td>IL</td>\n",
       "      <td>7.454720</td>\n",
       "      <td>41.569219</td>\n",
       "      <td>2985984.0</td>\n",
       "    </tr>\n",
       "  </tbody>\n",
       "</table>\n",
       "</div>"
      ],
      "text/plain": [
       "   Unnamed: 0        ItinID  FarePerMile  Coupons Origin  RoundTrip  OnLine  \\\n",
       "0     2936583   20161720654       0.2427        2    ORD        1.0     1.0   \n",
       "1       60732  201612861996       0.2103        2    ORD        1.0     1.0   \n",
       "2     1735933  201612425797       0.2565        2    ORD        1.0     0.0   \n",
       "3     1603577  201614110419       0.2793        2    MDW        1.0     1.0   \n",
       "4     2735471  201612424214       0.2054        2    ORD        1.0     1.0   \n",
       "\n",
       "  RPCarrier  Passengers  ItinFare  BulkFare  Distance  DistanceGroup  \\\n",
       "0        AA         1.0     896.0       0.0    3692.0              8   \n",
       "1        OO         3.0     426.0       0.0    2026.0              5   \n",
       "2        G7         2.0     534.0       0.0    2082.0              5   \n",
       "3        WN         2.0     405.0       0.0    1450.0              3   \n",
       "4        G7         1.0     355.0       0.0    1728.0              4   \n",
       "\n",
       "   MilesFlown OriginState  DistanceLog  DistanceSqrt  DistanceSqd  \n",
       "0      3692.0          IL     8.213924     60.761830   13630864.0  \n",
       "1      2026.0          IL     7.613819     45.011110    4104676.0  \n",
       "2      2082.0          IL     7.641084     45.628938    4334724.0  \n",
       "3      1450.0          IL     7.279319     38.078866    2102500.0  \n",
       "4      1728.0          IL     7.454720     41.569219    2985984.0  "
      ]
     },
     "execution_count": 8,
     "metadata": {},
     "output_type": "execute_result"
    }
   ],
   "source": [
    "df_rt.head()"
   ]
  },
  {
   "cell_type": "markdown",
   "metadata": {},
   "source": [
    "Here are some scatter plots to see if there are any correlations between ItinFare and some of these other columns. Clearly distance isn't strictly linear, so I tried a few different mathematical conversions to see what might happen."
   ]
  },
  {
   "cell_type": "code",
   "execution_count": 9,
   "metadata": {
    "collapsed": false,
    "scrolled": true
   },
   "outputs": [
    {
     "data": {
      "text/plain": [
       "<matplotlib.collections.PathCollection at 0x103ecd518>"
      ]
     },
     "execution_count": 9,
     "metadata": {},
     "output_type": "execute_result"
    },
    {
     "data": {
      "image/png": "[encoded data removed]",
      "text/plain": [
       "<matplotlib.figure.Figure at 0x10c77b550>"
      ]
     },
     "metadata": {},
     "output_type": "display_data"
    }
   ],
   "source": [
    "plt.scatter(df_rt[\"Distance\"], df_rt[\"ItinFare\"])"
   ]
  },
  {
   "cell_type": "code",
   "execution_count": 10,
   "metadata": {
    "collapsed": false,
    "scrolled": true
   },
   "outputs": [
    {
     "data": {
      "text/plain": [
       "<matplotlib.collections.PathCollection at 0x10f6c8898>"
      ]
     },
     "execution_count": 10,
     "metadata": {},
     "output_type": "execute_result"
    },
    {
     "data": {
      "image/png": "[encoded data removed]",
      "text/plain": [
       "<matplotlib.figure.Figure at 0x10c77be10>"
      ]
     },
     "metadata": {},
     "output_type": "display_data"
    }
   ],
   "source": [
    "plt.scatter(df_rt[\"DistanceLog\"], df_rt[\"ItinFare\"])"
   ]
  },
  {
   "cell_type": "code",
   "execution_count": 11,
   "metadata": {
    "collapsed": false,
    "scrolled": true
   },
   "outputs": [
    {
     "data": {
      "text/plain": [
       "<matplotlib.collections.PathCollection at 0x10f801048>"
      ]
     },
     "execution_count": 11,
     "metadata": {},
     "output_type": "execute_result"
    },
    {
     "data": {
      "image/png": "[encoded data removed]",
      "text/plain": [
       "<matplotlib.figure.Figure at 0x10f7b6390>"
      ]
     },
     "metadata": {},
     "output_type": "display_data"
    }
   ],
   "source": [
    "plt.scatter(df_rt[\"DistanceSqrt\"], df_rt[\"ItinFare\"])"
   ]
  },
  {
   "cell_type": "code",
   "execution_count": 12,
   "metadata": {
    "collapsed": false
   },
   "outputs": [
    {
     "data": {
      "text/plain": [
       "<matplotlib.collections.PathCollection at 0x10f927b00>"
      ]
     },
     "execution_count": 12,
     "metadata": {},
     "output_type": "execute_result"
    },
    {
     "data": {
      "image/png": "[encoded data removed]",
      "text/plain": [
       "<matplotlib.figure.Figure at 0x10f808978>"
      ]
     },
     "metadata": {},
     "output_type": "display_data"
    }
   ],
   "source": [
    "plt.scatter(df_rt[\"DistanceSqd\"], df_rt[\"ItinFare\"])"
   ]
  },
  {
   "cell_type": "code",
   "execution_count": 13,
   "metadata": {
    "collapsed": false
   },
   "outputs": [
    {
     "data": {
      "text/plain": [
       "<matplotlib.collections.PathCollection at 0x10faba1d0>"
      ]
     },
     "execution_count": 13,
     "metadata": {},
     "output_type": "execute_result"
    },
    {
     "data": {
      "image/png": "[encoded data removed]",
      "text/plain": [
       "<matplotlib.figure.Figure at 0x10fa99940>"
      ]
     },
     "metadata": {},
     "output_type": "display_data"
    }
   ],
   "source": [
    "plt.scatter(df_rt[\"DistanceGroup\"], df_rt[\"ItinFare\"])"
   ]
  },
  {
   "cell_type": "code",
   "execution_count": 14,
   "metadata": {
    "collapsed": false,
    "scrolled": true
   },
   "outputs": [
    {
     "data": {
      "text/plain": [
       "<matplotlib.collections.PathCollection at 0x10fc79518>"
      ]
     },
     "execution_count": 14,
     "metadata": {},
     "output_type": "execute_result"
    },
    {
     "data": {
      "image/png": "[encoded data removed]",
      "text/plain": [
       "<matplotlib.figure.Figure at 0x10fad3710>"
      ]
     },
     "metadata": {},
     "output_type": "display_data"
    }
   ],
   "source": [
    "#is \"Passengers\" useful?\n",
    "plt.scatter(df_rt[\"Passengers\"], df_rt[\"ItinFare\"])\n",
    "#AF Note: there are some weird outliers here that I guess could be dropped"
   ]
  },
  {
   "cell_type": "code",
   "execution_count": 15,
   "metadata": {
    "collapsed": false,
    "scrolled": true
   },
   "outputs": [
    {
     "data": {
      "text/plain": [
       "count    8771.000000\n",
       "mean        2.247064\n",
       "std         4.874849\n",
       "min         1.000000\n",
       "25%         1.000000\n",
       "50%         1.000000\n",
       "75%         2.000000\n",
       "max       150.000000\n",
       "Name: Passengers, dtype: float64"
      ]
     },
     "execution_count": 15,
     "metadata": {},
     "output_type": "execute_result"
    }
   ],
   "source": [
    "df_rt[\"Passengers\"].describe()"
   ]
  },
  {
   "cell_type": "code",
   "execution_count": 16,
   "metadata": {
    "collapsed": false
   },
   "outputs": [
    {
     "data": {
      "text/plain": [
       "count    8771.0\n",
       "mean        0.0\n",
       "std         0.0\n",
       "min         0.0\n",
       "25%         0.0\n",
       "50%         0.0\n",
       "75%         0.0\n",
       "max         0.0\n",
       "Name: BulkFare, dtype: float64"
      ]
     },
     "execution_count": 16,
     "metadata": {},
     "output_type": "execute_result"
    }
   ],
   "source": [
    "#is bulk fare a useful column? how many columns does this apply to?\n",
    "#it's all zeros so can be dropped\n",
    "df_rt[\"BulkFare\"].describe()"
   ]
  },
  {
   "cell_type": "code",
   "execution_count": 17,
   "metadata": {
    "collapsed": false,
    "scrolled": true
   },
   "outputs": [
    {
     "name": "stdout",
     "output_type": "stream",
     "text": [
      "count    8771.000000\n",
      "mean     2156.513738\n",
      "std      1326.550803\n",
      "min       216.000000\n",
      "25%      1244.000000\n",
      "50%      1944.000000\n",
      "75%      2880.000000\n",
      "max      9243.000000\n",
      "Name: Distance, dtype: float64\n",
      "count    8771.000000\n",
      "mean     2143.890092\n",
      "std      1320.138592\n",
      "min       216.000000\n",
      "25%      1244.000000\n",
      "50%      1886.000000\n",
      "75%      2880.000000\n",
      "max      9243.000000\n",
      "Name: MilesFlown, dtype: float64\n"
     ]
    }
   ],
   "source": [
    "#are distance and milesflown the same? the answer is basically yes.\n",
    "#so one of these can be dropped\n",
    "print(df_rt[\"Distance\"].describe())\n",
    "print(df_rt[\"MilesFlown\"].describe())"
   ]
  },
  {
   "cell_type": "code",
   "execution_count": 18,
   "metadata": {
    "collapsed": false,
    "scrolled": false
   },
   "outputs": [
    {
     "data": {
      "text/plain": [
       "Unnamed: 0       0.229282\n",
       "ItinID          -0.000641\n",
       "FarePerMile      0.388850\n",
       "Coupons          0.151266\n",
       "RoundTrip             NaN\n",
       "OnLine          -0.035519\n",
       "Passengers      -0.137591\n",
       "ItinFare         1.000000\n",
       "BulkFare              NaN\n",
       "Distance         0.266407\n",
       "DistanceGroup    0.267954\n",
       "MilesFlown       0.264109\n",
       "DistanceLog      0.191351\n",
       "DistanceSqrt     0.232897\n",
       "DistanceSqd      0.292569\n",
       "Name: ItinFare, dtype: float64"
      ]
     },
     "execution_count": 18,
     "metadata": {},
     "output_type": "execute_result"
    }
   ],
   "source": [
    "#general correlations between ItinFare and the other columns\n",
    "df_rt.corr().loc[:,\"ItinFare\"]"
   ]
  },
  {
   "cell_type": "markdown",
   "metadata": {},
   "source": [
    "Ok so from the above we can see that Distance and DistanceGroup are essentially the same, only need one of them in the model. Distance Squared is doing a bit better than regular distance, maybe that's a case where it should be cubed?"
   ]
  },
  {
   "cell_type": "code",
   "execution_count": 19,
   "metadata": {
    "collapsed": true
   },
   "outputs": [],
   "source": [
    "#then I would have made dummy columns (for airport and airline)\n",
    "#if I had not run short on time"
   ]
  }
 ],
 "metadata": {
  "kernelspec": {
   "display_name": "Python 3",
   "language": "python",
   "name": "python3"
  },
  "language_info": {
   "codemirror_mode": {
    "name": "ipython",
    "version": 3
   },
   "file_extension": ".py",
   "mimetype": "text/x-python",
   "name": "python",
   "nbconvert_exporter": "python",
   "pygments_lexer": "ipython3",
   "version": "3.6.0"
  }
 },
 "nbformat": 4,
 "nbformat_minor": 2
}
