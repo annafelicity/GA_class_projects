{
 "cells": [
  {
   "cell_type": "markdown",
   "metadata": {},
   "source": [
    "### The goal of this model is to predict the price of airline tickets for flights leaving O'Hare and Midway. \n",
    "\n",
    "**My model:**\n",
    "I decided to focus on creating a model that works for round-trip fares only. As someone who flies a lot, I can hypothesize based on anecdote that one-way fares are generally much higher than round-trip fares and may have quite different parameters for prediction.\n",
    "\n",
    "To determine if my anecdotal knowledge might be relevant, I investigated the summary statistics for a subset of the data based on whether the tickets were round-trip or one-way. It was easy to tell that these were very different sets of data. Among many examples I could pull from investigating those differences (see my related Python notebook \"project3_data\"), if we compare the means of each subset, the round-trip ticket mean is $426.55 (or $213.28 per half aka one-way ticket) and the one-way ticket mean is $309.44.\n",
    "\n",
    "Although it might be possible to create a model that works well simultaneously for both round-trip and one-way tickets, that seems beyond my skills at the moment. This may be the case where the first step when predicting airline ticket prices is to choose one of two predictor models (and from my previous experience using real-world fare predictors out there, this is exactly what they do).\n",
    "\n",
    "**Data issues:**\n",
    "Some of the columns of data were clearly unnecessary or irrelevant to use for purposes of modeling: \"OriginState\" (everything is IL), \"MilesFlown\" and \"DistanceGroup\" (they are almost exactly the same as \"Distance\"), \"BulkFare\" (everything is zero). (See my \"project3_data\" document for the details on this.) Other columns were unclear. For example, the ItinFare values are already calculated per person, but does the number of tickets purchased at a time affect the price? Also the \"Passengers\" column had some weird outliers that probably should be dropped from the dataset, but I didn't do that due to time constraints.\n",
    "\n",
    "**Models:**\n",
    "So I went ahead and made a model (model_1) just using the straightforward columns that were already number-based, \"Coupons\", \"OnLine\", \"Passengers\", \"Distance\", \"DistanceGroup\". Obviously the airport from which someone flew (ORD or MDW) might be relevant, but that requires some more work and the airline flown definitely is relevant, so that work needs to be done. I started to think about waht model_2 would be. This would bring the airport and airline into the equation. "
   ]
  },
  {
   "cell_type": "code",
   "execution_count": 1,
   "metadata": {
    "collapsed": false
   },
   "outputs": [
    {
     "data": {
      "text/html": [
       "<div>\n",
       "<table border=\"1\" class=\"dataframe\">\n",
       "  <thead>\n",
       "    <tr style=\"text-align: right;\">\n",
       "      <th></th>\n",
       "      <th>Unnamed: 0</th>\n",
       "      <th>ItinID</th>\n",
       "      <th>FarePerMile</th>\n",
       "      <th>Coupons</th>\n",
       "      <th>Origin</th>\n",
       "      <th>RoundTrip</th>\n",
       "      <th>OnLine</th>\n",
       "      <th>RPCarrier</th>\n",
       "      <th>Passengers</th>\n",
       "      <th>ItinFare</th>\n",
       "      <th>BulkFare</th>\n",
       "      <th>Distance</th>\n",
       "      <th>DistanceGroup</th>\n",
       "      <th>MilesFlown</th>\n",
       "      <th>OriginState</th>\n",
       "    </tr>\n",
       "  </thead>\n",
       "  <tbody>\n",
       "    <tr>\n",
       "      <th>0</th>\n",
       "      <td>2936583</td>\n",
       "      <td>20161720654</td>\n",
       "      <td>0.2427</td>\n",
       "      <td>2</td>\n",
       "      <td>ORD</td>\n",
       "      <td>1.0</td>\n",
       "      <td>1.0</td>\n",
       "      <td>AA</td>\n",
       "      <td>1.0</td>\n",
       "      <td>896.0</td>\n",
       "      <td>0.0</td>\n",
       "      <td>3692.0</td>\n",
       "      <td>8</td>\n",
       "      <td>3692.0</td>\n",
       "      <td>IL</td>\n",
       "    </tr>\n",
       "    <tr>\n",
       "      <th>1</th>\n",
       "      <td>60732</td>\n",
       "      <td>201612861996</td>\n",
       "      <td>0.2103</td>\n",
       "      <td>2</td>\n",
       "      <td>ORD</td>\n",
       "      <td>1.0</td>\n",
       "      <td>1.0</td>\n",
       "      <td>OO</td>\n",
       "      <td>3.0</td>\n",
       "      <td>426.0</td>\n",
       "      <td>0.0</td>\n",
       "      <td>2026.0</td>\n",
       "      <td>5</td>\n",
       "      <td>2026.0</td>\n",
       "      <td>IL</td>\n",
       "    </tr>\n",
       "    <tr>\n",
       "      <th>2</th>\n",
       "      <td>1735933</td>\n",
       "      <td>201612425797</td>\n",
       "      <td>0.2565</td>\n",
       "      <td>2</td>\n",
       "      <td>ORD</td>\n",
       "      <td>1.0</td>\n",
       "      <td>0.0</td>\n",
       "      <td>G7</td>\n",
       "      <td>2.0</td>\n",
       "      <td>534.0</td>\n",
       "      <td>0.0</td>\n",
       "      <td>2082.0</td>\n",
       "      <td>5</td>\n",
       "      <td>2082.0</td>\n",
       "      <td>IL</td>\n",
       "    </tr>\n",
       "    <tr>\n",
       "      <th>3</th>\n",
       "      <td>1603577</td>\n",
       "      <td>201614110419</td>\n",
       "      <td>0.2793</td>\n",
       "      <td>2</td>\n",
       "      <td>MDW</td>\n",
       "      <td>1.0</td>\n",
       "      <td>1.0</td>\n",
       "      <td>WN</td>\n",
       "      <td>2.0</td>\n",
       "      <td>405.0</td>\n",
       "      <td>0.0</td>\n",
       "      <td>1450.0</td>\n",
       "      <td>3</td>\n",
       "      <td>1450.0</td>\n",
       "      <td>IL</td>\n",
       "    </tr>\n",
       "    <tr>\n",
       "      <th>4</th>\n",
       "      <td>2735471</td>\n",
       "      <td>201612424214</td>\n",
       "      <td>0.2054</td>\n",
       "      <td>2</td>\n",
       "      <td>ORD</td>\n",
       "      <td>1.0</td>\n",
       "      <td>1.0</td>\n",
       "      <td>G7</td>\n",
       "      <td>1.0</td>\n",
       "      <td>355.0</td>\n",
       "      <td>0.0</td>\n",
       "      <td>1728.0</td>\n",
       "      <td>4</td>\n",
       "      <td>1728.0</td>\n",
       "      <td>IL</td>\n",
       "    </tr>\n",
       "  </tbody>\n",
       "</table>\n",
       "</div>"
      ],
      "text/plain": [
       "   Unnamed: 0        ItinID  FarePerMile  Coupons Origin  RoundTrip  OnLine  \\\n",
       "0     2936583   20161720654       0.2427        2    ORD        1.0     1.0   \n",
       "1       60732  201612861996       0.2103        2    ORD        1.0     1.0   \n",
       "2     1735933  201612425797       0.2565        2    ORD        1.0     0.0   \n",
       "3     1603577  201614110419       0.2793        2    MDW        1.0     1.0   \n",
       "4     2735471  201612424214       0.2054        2    ORD        1.0     1.0   \n",
       "\n",
       "  RPCarrier  Passengers  ItinFare  BulkFare  Distance  DistanceGroup  \\\n",
       "0        AA         1.0     896.0       0.0    3692.0              8   \n",
       "1        OO         3.0     426.0       0.0    2026.0              5   \n",
       "2        G7         2.0     534.0       0.0    2082.0              5   \n",
       "3        WN         2.0     405.0       0.0    1450.0              3   \n",
       "4        G7         1.0     355.0       0.0    1728.0              4   \n",
       "\n",
       "   MilesFlown OriginState  \n",
       "0      3692.0          IL  \n",
       "1      2026.0          IL  \n",
       "2      2082.0          IL  \n",
       "3      1450.0          IL  \n",
       "4      1728.0          IL  "
      ]
     },
     "execution_count": 1,
     "metadata": {},
     "output_type": "execute_result"
    }
   ],
   "source": [
    "% matplotlib inline\n",
    "\n",
    "from matplotlib import pyplot as plt\n",
    "import numpy as np\n",
    "import pandas as pd\n",
    "from scipy import stats\n",
    "from sklearn import datasets\n",
    "from sklearn.linear_model import LinearRegression, Ridge\n",
    "\n",
    "file_path = \"airline_10.csv\"\n",
    "\n",
    "df = pd.read_csv(file_path)\n",
    "df.head()"
   ]
  },
  {
   "cell_type": "code",
   "execution_count": 7,
   "metadata": {
    "collapsed": false,
    "scrolled": true
   },
   "outputs": [
    {
     "name": "stdout",
     "output_type": "stream",
     "text": [
      "   Coupons Origin  RoundTrip  OnLine RPCarrier  Passengers  Distance  \\\n",
      "0        2    ORD        1.0     1.0        AA         1.0    3692.0   \n",
      "1        2    ORD        1.0     1.0        OO         3.0    2026.0   \n",
      "2        2    ORD        1.0     0.0        G7         2.0    2082.0   \n",
      "3        2    MDW        1.0     1.0        WN         2.0    1450.0   \n",
      "4        2    ORD        1.0     1.0        G7         1.0    1728.0   \n",
      "\n",
      "   DistanceSqd  \n",
      "0   13630864.0  \n",
      "1    4104676.0  \n",
      "2    4334724.0  \n",
      "3    2102500.0  \n",
      "4    2985984.0  \n",
      "   Coupons  RoundTrip  OnLine  Passengers  DistanceSqd\n",
      "0        2        1.0     1.0         1.0   13630864.0\n",
      "1        2        1.0     1.0         3.0    4104676.0\n",
      "2        2        1.0     0.0         2.0    4334724.0\n",
      "3        2        1.0     1.0         2.0    2102500.0\n",
      "4        2        1.0     1.0         1.0    2985984.0\n"
     ]
    }
   ],
   "source": [
    "#add any new columns that will be needed\n",
    "#note: I ran short on time to do the dummies columns for airport and airline\n",
    "#or that would be here too\n",
    "\n",
    "#adds a column with distance squared\n",
    "df[\"DistanceSqd\"] = df[\"Distance\"].apply(lambda x: x ** 2)\n",
    "\n",
    "#AF note to self: when I tried to do this on just the subset, \n",
    "#it didn't work, so I did it before making the rt subset\n",
    "\n",
    "#first create a dataframe with just the rt rows:\n",
    "df_rt = df.loc[(df[\"RoundTrip\"] == 1.0)]\n",
    "\n",
    "#then create a target column from it to make typing easier:\n",
    "target = df_rt[\"ItinFare\"]\n",
    "\n",
    "#then drop any unneeded columns and make a new dataframe with it that will be used for X\n",
    "\n",
    "X = df_rt.drop([\"Unnamed: 0\", \"ItinID\", \"FarePerMile\", \"ItinFare\", \"BulkFare\", \"MilesFlown\", \"OriginState\", \"DistanceGroup\"], axis=1)\n",
    "\n",
    "#and make one that doesn't have the string columns and also drops Distance in favor of DistanceSqd\n",
    "X_2 = X.drop([\"Origin\", \"RPCarrier\", \"Distance\"], axis=1)\n",
    "\n",
    "#AF note to self: I could make any needed X datasets here \n",
    "#so I don't have to specify columns below\n",
    "\n",
    "print(X.head())\n",
    "print(X_2.head())\n"
   ]
  },
  {
   "cell_type": "code",
   "execution_count": 8,
   "metadata": {
    "collapsed": false
   },
   "outputs": [
    {
     "data": {
      "text/html": [
       "<div>\n",
       "<table border=\"1\" class=\"dataframe\">\n",
       "  <thead>\n",
       "    <tr style=\"text-align: right;\">\n",
       "      <th></th>\n",
       "      <th>Coupons</th>\n",
       "      <th>RoundTrip</th>\n",
       "      <th>OnLine</th>\n",
       "      <th>Passengers</th>\n",
       "      <th>DistanceSqd</th>\n",
       "    </tr>\n",
       "  </thead>\n",
       "  <tbody>\n",
       "    <tr>\n",
       "      <th>0</th>\n",
       "      <td>2</td>\n",
       "      <td>1.0</td>\n",
       "      <td>1.0</td>\n",
       "      <td>1.0</td>\n",
       "      <td>13630864.0</td>\n",
       "    </tr>\n",
       "    <tr>\n",
       "      <th>1</th>\n",
       "      <td>2</td>\n",
       "      <td>1.0</td>\n",
       "      <td>1.0</td>\n",
       "      <td>3.0</td>\n",
       "      <td>4104676.0</td>\n",
       "    </tr>\n",
       "    <tr>\n",
       "      <th>2</th>\n",
       "      <td>2</td>\n",
       "      <td>1.0</td>\n",
       "      <td>0.0</td>\n",
       "      <td>2.0</td>\n",
       "      <td>4334724.0</td>\n",
       "    </tr>\n",
       "    <tr>\n",
       "      <th>3</th>\n",
       "      <td>2</td>\n",
       "      <td>1.0</td>\n",
       "      <td>1.0</td>\n",
       "      <td>2.0</td>\n",
       "      <td>2102500.0</td>\n",
       "    </tr>\n",
       "    <tr>\n",
       "      <th>4</th>\n",
       "      <td>2</td>\n",
       "      <td>1.0</td>\n",
       "      <td>1.0</td>\n",
       "      <td>1.0</td>\n",
       "      <td>2985984.0</td>\n",
       "    </tr>\n",
       "  </tbody>\n",
       "</table>\n",
       "</div>"
      ],
      "text/plain": [
       "   Coupons  RoundTrip  OnLine  Passengers  DistanceSqd\n",
       "0        2        1.0     1.0         1.0   13630864.0\n",
       "1        2        1.0     1.0         3.0    4104676.0\n",
       "2        2        1.0     0.0         2.0    4334724.0\n",
       "3        2        1.0     1.0         2.0    2102500.0\n",
       "4        2        1.0     1.0         1.0    2985984.0"
      ]
     },
     "execution_count": 8,
     "metadata": {},
     "output_type": "execute_result"
    }
   ],
   "source": [
    "X_2.head()"
   ]
  },
  {
   "cell_type": "markdown",
   "metadata": {},
   "source": [
    "And in this cell below I was playing around with various combinations of different columns in x to see what happened with a straight up linear regression model, based on the columns that seemed promising from my data exploration in the project3_data notebook."
   ]
  },
  {
   "cell_type": "code",
   "execution_count": 9,
   "metadata": {
    "collapsed": false
   },
   "outputs": [
    {
     "name": "stdout",
     "output_type": "stream",
     "text": [
      "0.103906328258\n"
     ]
    },
    {
     "data": {
      "image/png": "[encoded data removed]",
      "text/plain": [
       "<matplotlib.figure.Figure at 0x10ea41278>"
      ]
     },
     "metadata": {},
     "output_type": "display_data"
    }
   ],
   "source": [
    "#my y is \"ItinFare\"\n",
    "#using just the rt fares with the columns that just have numerical values\n",
    "#and DistanceSqd instead of Distance\n",
    "x = X_2.values \n",
    "y = target.values\n",
    "\n",
    "model_1_lr = LinearRegression()\n",
    "model_1_lr.fit(x, y)\n",
    "     \n",
    "predictions = model_1_lr.predict(x)\n",
    "\n",
    "plt.scatter(y, predictions) #compares y to predicted y\n",
    "\n",
    "print(model_1_lr.score(x,y))"
   ]
  },
  {
   "cell_type": "markdown",
   "metadata": {},
   "source": [
    "Obviously the above isn't a particularly good model. So let's try it with Ridge...(I kept trying different alphas here)"
   ]
  },
  {
   "cell_type": "code",
   "execution_count": 17,
   "metadata": {
    "collapsed": false,
    "scrolled": true
   },
   "outputs": [
    {
     "name": "stdout",
     "output_type": "stream",
     "text": [
      "0.10390632579\n"
     ]
    },
    {
     "data": {
      "image/png": "[encoded data removed]",
      "text/plain": [
       "<matplotlib.figure.Figure at 0x10f3f45f8>"
      ]
     },
     "metadata": {},
     "output_type": "display_data"
    }
   ],
   "source": [
    "x = X_2.values \n",
    "y = target.values\n",
    "\n",
    "model_1_ridge = Ridge(alpha=3)\n",
    "model_1_ridge.fit(x, y)\n",
    "     \n",
    "predictions_2 = model_1_ridge.predict(x)\n",
    "\n",
    "plt.scatter(y, predictions_2)\n",
    "print(model_1_ridge.score(x,y))"
   ]
  },
  {
   "cell_type": "markdown",
   "metadata": {},
   "source": [
    "Okay, still totally terrible and changing the alpha doesn't make much difference, so obviously just focusing on the columns that had numerical values to begin with was a bad idea."
   ]
  },
  {
   "cell_type": "code",
   "execution_count": 6,
   "metadata": {
    "collapsed": true
   },
   "outputs": [],
   "source": [
    "#here, if I time had not run short, I would have tried another model\n",
    "#with dummy variable columns for airlines and airport"
   ]
  },
  {
   "cell_type": "code",
   "execution_count": 18,
   "metadata": {
    "collapsed": true
   },
   "outputs": [],
   "source": [
    "#to finish up let's try some crossvalidation\n",
    "from sklearn.model_selection import cross_val_score"
   ]
  },
  {
   "cell_type": "code",
   "execution_count": 20,
   "metadata": {
    "collapsed": false
   },
   "outputs": [
    {
     "data": {
      "text/plain": [
       "array([ 0.11324968,  0.10256227,  0.08998271])"
      ]
     },
     "execution_count": 20,
     "metadata": {},
     "output_type": "execute_result"
    }
   ],
   "source": [
    "cross_val_score(model_1_lr, X_2, target)"
   ]
  },
  {
   "cell_type": "code",
   "execution_count": 21,
   "metadata": {
    "collapsed": false
   },
   "outputs": [
    {
     "data": {
      "text/plain": [
       "array([ 0.1132469 ,  0.10256811,  0.08998345])"
      ]
     },
     "execution_count": 21,
     "metadata": {},
     "output_type": "execute_result"
    }
   ],
   "source": [
    "cross_val_score(model_1_ridge, X_2, target)"
   ]
  },
  {
   "cell_type": "code",
   "execution_count": 22,
   "metadata": {
    "collapsed": true
   },
   "outputs": [],
   "source": [
    "#well, at least everything is pretty much equally bad :)"
   ]
  },
  {
   "cell_type": "code",
   "execution_count": null,
   "metadata": {
    "collapsed": true
   },
   "outputs": [],
   "source": []
  }
 ],
 "metadata": {
  "kernelspec": {
   "display_name": "Python 3",
   "language": "python",
   "name": "python3"
  },
  "language_info": {
   "codemirror_mode": {
    "name": "ipython",
    "version": 3
   },
   "file_extension": ".py",
   "mimetype": "text/x-python",
   "name": "python",
   "nbconvert_exporter": "python",
   "pygments_lexer": "ipython3",
   "version": "3.6.0"
  }
 },
 "nbformat": 4,
 "nbformat_minor": 2
}
